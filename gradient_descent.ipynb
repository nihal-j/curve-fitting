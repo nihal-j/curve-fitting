{
 "cells": [
  {
   "cell_type": "code",
   "execution_count": null,
   "metadata": {},
   "outputs": [],
   "source": [
    "import numpy as np\n",
    "import pandas as pd"
   ]
  },
  {
   "cell_type": "code",
   "execution_count": null,
   "metadata": {},
   "outputs": [],
   "source": [
    "dataDf = pd.read_csv('data.csv')\n",
    "x = dataDf['LATITUDE'].tolist()\n",
    "y = dataDf['LONGITUDE'].tolist()\n",
    "T = dataDf['ALTITUDE'].tolist()\n",
    "\n",
    "%matplotlib notebook\n",
    "\n",
    "# x = [i for i in range(1,51)]\n",
    "# y = [i for i in range(51,1,-1)]\n",
    "# # T = [(x[i]*x[i]) + (y[i]*0) for i in range(50)]\n",
    "# T = [(x[i]*0.6389) + (y[i]*1.253) for i in range(50)]\n",
    "# T_ = [(x[i]*0.8436) + (y[i]*1.0483) + 0.20469999958167995 for i in range(50)]\n",
    "\n",
    "# print(T_)\n",
    "# print(T)\n",
    "\n",
    "# from mpl_toolkits import mplot3d\n",
    "# import matplotlib.pyplot as plt\n",
    "\n",
    "# # plotting 1000 random points from the dataset\n",
    "\n",
    "# # fig = plt.figure()\n",
    "# # ax = fig.add_subplot(111, projection='3d')\n",
    "# # ax1 = fig.add_subplot(111, projection='3d')\n",
    "# xdata = x\n",
    "# ydata = y\n",
    "# # zdata = T_\n",
    "# # ax = ax.scatter(xdata, ydata, zdata)\n",
    "# zdata = T\n",
    "# # ax1 = ax.scatter(xdata, ydata, zdata)\n",
    "# # sample = dataDf.sample(n = 1000)\n",
    "\n",
    "# ax = plt.subplots(subplot_kw={'projection': '3d'})\n",
    "# ax.plot(xdata, ydata, zdata)"
   ]
  },
  {
   "cell_type": "code",
   "execution_count": null,
   "metadata": {},
   "outputs": [],
   "source": [
    "def normalize(x):\n",
    "    \n",
    "    mean = np.mean(x)\n",
    "    denominator = max(x) - min(y)\n",
    "    x = (x - mean) / denominator\n",
    "    \n",
    "    return x"
   ]
  },
  {
   "cell_type": "code",
   "execution_count": null,
   "metadata": {},
   "outputs": [],
   "source": [
    "def generate_features(x, y, N, deg):\n",
    "    \n",
    "    # the feature matrix\n",
    "    # for each pow of y (dy), get all pow of x (dx), such that dx + dy = deg\n",
    "    \n",
    "    # [[1, x1, x1^2, y1, x1y1, y1^2]\n",
    "    #  [1, x2, x2^2, y2, x2y2, y2^2]\n",
    "    #   .  .\n",
    "    #   .  .\n",
    "    #  [1, xN, xN^2, yN, xNyN, yN^2]]\n",
    "    featureMatrix = []\n",
    "    \n",
    "    # number of features\n",
    "    d = 0\n",
    "    \n",
    "    for n in range(N):\n",
    "        row = []\n",
    "        for i in range(deg + 1):\n",
    "            for j in range(deg - i + 1):\n",
    "                term = (x[n]**j) * (y[n]**i)\n",
    "                row.append(term)\n",
    "                if n == 0:\n",
    "                    d += 1\n",
    "        featureMatrix.append(row)\n",
    "    \n",
    "    # converting to a numpy array\n",
    "    featureMatrix = np.array(featureMatrix)\n",
    "    \n",
    "    return featureMatrix, d"
   ]
  },
  {
   "cell_type": "code",
   "execution_count": null,
   "metadata": {},
   "outputs": [],
   "source": [
    "def update_weights(W, features, error, eta):\n",
    "    \n",
    "    delta = features.dot(error)\n",
    "    # print(features)\n",
    "    # print(error)\n",
    "    # print(delta)\n",
    "    # print()\n",
    "    W = W - eta*delta\n",
    "    \n",
    "    return W"
   ]
  },
  {
   "cell_type": "code",
   "execution_count": null,
   "metadata": {},
   "outputs": [],
   "source": [
    "def show(W, error, d):\n",
    "    \n",
    "    for i in range(d):\n",
    "        print(W[i])\n",
    "    print('Error: ', error)\n",
    "    print('\\n')"
   ]
  },
  {
   "cell_type": "code",
   "execution_count": null,
   "metadata": {},
   "outputs": [],
   "source": [
    "def generate_model(x, y, T, deg, maxIter, eta):\n",
    "    \n",
    "    import random\n",
    "    from tqdm import tqdm_notebook\n",
    "       \n",
    "    N = len(x)\n",
    "    featureMatrix, d = generate_features(x, y, N, deg)\n",
    "    \n",
    "    # initial weights vector\n",
    "    # W = np.array([0 for i in range(d)])\n",
    "    random.seed(12)\n",
    "    W = np.array([random.random() for i in range(d)])\n",
    "    \n",
    "    currentError = 0.5 * (sum(T)**2)\n",
    "    \n",
    "    for i in tqdm_notebook(range(maxIter)):\n",
    "        \n",
    "        H = featureMatrix.dot(W)\n",
    "        E = 0.5 * (H - T) * np.transpose(H - T)\n",
    "        prevError = currentError\n",
    "        currentError = sum(E)\n",
    "        show(W, currentError, d)\n",
    "        W = update_weights(W, np.transpose(featureMatrix), H - T, eta)\n",
    "        \n",
    "    return W"
   ]
  },
  {
   "cell_type": "code",
   "execution_count": null,
   "metadata": {},
   "outputs": [],
   "source": [
    "generate_model(x, y, T, 1, 10000, 0.000000001)"
   ]
  },
  {
   "cell_type": "markdown",
   "metadata": {},
   "source": [
    "# Unnormalized\n",
    "\n",
    "## Max iterations = 10,000\n",
    "## eta = 0.000000001\n",
    "\n",
    "### Degree = 2\n",
    "\n",
    "0.4744234599520871      1 <br>\n",
    "0.6474382918705535      x <br>\n",
    "0.0005804929584987999   x^2 <br>\n",
    "0.14105769027351664     y <br>\n",
    "-0.09403124677459616    xy <br>\n",
    "0.3544625440157649      y^2 <br>\n",
    "\n",
    "Error:  75436974.66365339\n",
    "\n",
    "---------------------------------------------------\n",
    "\n",
    "### Degree = 1\n",
    "\n",
    "0.5185508389987425       1 <br>\n",
    "0.15099146093306134      x <br>\n",
    "1.3394518499352581       y <br>\n",
    "\n",
    "Error:  75282294.06572284"
   ]
  },
  {
   "cell_type": "code",
   "execution_count": null,
   "metadata": {},
   "outputs": [],
   "source": []
  }
 ],
 "metadata": {
  "kernelspec": {
   "display_name": "Python 3",
   "language": "python",
   "name": "python3"
  },
  "language_info": {
   "codemirror_mode": {
    "name": "ipython",
    "version": 3
   },
   "file_extension": ".py",
   "mimetype": "text/x-python",
   "name": "python",
   "nbconvert_exporter": "python",
   "pygments_lexer": "ipython3",
   "version": "3.7.3"
  }
 },
 "nbformat": 4,
 "nbformat_minor": 2
}
