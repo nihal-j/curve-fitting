{
 "cells": [
  {
   "cell_type": "code",
   "execution_count": 47,
   "metadata": {},
   "outputs": [],
   "source": [
    "%matplotlib notebook\n",
    "import numpy as np\n",
    "import pandas as pd\n",
    "import random\n",
    "from tqdm import tqdm_notebook\n",
    "from sklearn.model_selection import train_test_split\n",
    "import matplotlib.pyplot as plt\n",
    "from sklearn import linear_model"
   ]
  },
  {
   "cell_type": "code",
   "execution_count": 48,
   "metadata": {},
   "outputs": [],
   "source": [
    "dataDf = pd.read_csv('data.csv')\n",
    "x = np.array(dataDf['LATITUDE'].tolist())\n",
    "y = np.array(dataDf['LONGITUDE'].tolist())\n",
    "T = np.array(dataDf['ALTITUDE'].tolist())"
   ]
  },
  {
   "cell_type": "code",
   "execution_count": 49,
   "metadata": {},
   "outputs": [],
   "source": [
    "def normalize(vec, type = 'standardization'):\n",
    "    \n",
    "    '''\n",
    "    Performs normalization on the vector. The type of normalization can be standardization or\n",
    "    min-max normalization.\n",
    "    \n",
    "    Agruments:\n",
    "        vec: the vector that has to be normalized\n",
    "        type: 'standardization' or 'min-max'. Default is standardization\n",
    "        \n",
    "    Returns:\n",
    "        vec: the normalized vector\n",
    "    '''\n",
    "    \n",
    "    if type == 'standardization':\n",
    "        return (vec - np.mean(vec)) / np.std(vec)\n",
    "    \n",
    "    if type == 'min-max':\n",
    "        return (vec - min(vec)) / (max(vec) - min(vec))"
   ]
  },
  {
   "cell_type": "code",
   "execution_count": 121,
   "metadata": {},
   "outputs": [],
   "source": [
    "def split(x, y, T):\n",
    "    \n",
    "    '''\n",
    "    Splits the vectors into training, cross-validation and test sets,\n",
    "    following 80%, 10% and 10% sizes respectively.\n",
    "    \n",
    "    Arguments:\n",
    "        x: vector x of data (latitude)\n",
    "        y: vector y of data (longitude)\n",
    "        T: target variable vector of data (altitude)\n",
    "        \n",
    "    Returns:\n",
    "        x_train, y_train, T_train, x_val, y_val, T_val, x_test, y_test, T_test\n",
    "        following the description above\n",
    "    '''\n",
    "    \n",
    "    X = [(x[i], y[i]) for i in range(len(x))]\n",
    "    X_train, X_test, T_train, T_test = train_test_split(X, T, test_size = 0.2, random_state = 0)\n",
    "    X_test, X_val, T_test, T_val = train_test_split(X_test, T_test, test_size = 0.5, random_state = 42)\n",
    "    \n",
    "    x_test = np.array([X_test[i][0] for i in range(len(X_test))])\n",
    "    y_test = np.array([X_test[i][1] for i in range(len(X_test))])\n",
    "    \n",
    "    x_val = np.array([X_val[i][0] for i in range(len(X_val))])\n",
    "    y_val = np.array([X_val[i][1] for i in range(len(X_val))])\n",
    "    \n",
    "    x_train = np.array([X_train[i][0] for i in range(len(X_train))])\n",
    "    y_train = np.array([X_train[i][1] for i in range(len(X_train))])\n",
    "                      \n",
    "    return x_train, y_train, T_train, x_val, y_val, T_val, x_test, y_test, T_test"
   ]
  },
  {
   "cell_type": "code",
   "execution_count": 122,
   "metadata": {},
   "outputs": [],
   "source": [
    "def generate_features(x, y, N, deg):\n",
    "    \n",
    "    '''\n",
    "    Generates the feature matrix for each pow of y (dy), get all pow of x (dx), \n",
    "    such that dx + dy = deg\n",
    "    \n",
    "    The feature matrix looks as:\n",
    "    \n",
    "    [[1, x1, x1^2, y1, x1y1, y1^2]\n",
    "     [1, x2, x2^2, y2, x2y2, y2^2]\n",
    "      .  .\n",
    "      .  .\n",
    "     [1, xN, xN^2, yN, xNyN, yN^2]]\n",
    "     \n",
    "     Arguments:\n",
    "        x: vector x of data (latitude)\n",
    "        y: vector y of data (longitude)\n",
    "        N: no. of training examples\n",
    "        deg: maximum degree upto which features need to be calculated\n",
    "        \n",
    "    Returns:\n",
    "        featureMatrix: the featureMatrix as described\n",
    "        d: no. of features (no. of columns in featureMatrix)\n",
    "     '''\n",
    "    \n",
    "    featureMatrix = []\n",
    "    \n",
    "    # number of features\n",
    "    d = 0\n",
    "    \n",
    "    if N == 1:\n",
    "        x = [x]\n",
    "        y = [y]\n",
    "    \n",
    "    for n in range(N):\n",
    "        row = []\n",
    "        for i in range(deg + 1):\n",
    "            for j in range(deg - i + 1):\n",
    "                term = (x[n]**j) * (y[n]**i)\n",
    "                row.append(term)\n",
    "                if n == 0:\n",
    "                    d += 1\n",
    "        featureMatrix.append(row)\n",
    "    \n",
    "    # converting to a numpy array\n",
    "    featureMatrix = np.array(featureMatrix)\n",
    "    \n",
    "    return featureMatrix, d"
   ]
  },
  {
   "cell_type": "code",
   "execution_count": 112,
   "metadata": {},
   "outputs": [],
   "source": [
    "def update_weights(W, features, error, eta, lamb = 0, reg = 'L2'):\n",
    "    \n",
    "    delta = features.dot(error)\n",
    "    if reg == 'L2':\n",
    "        delta += lamb*W\n",
    "    else:\n",
    "        Wdel = np.copy(W)\n",
    "        for i in range(len(Wdel)):\n",
    "            if Wdel[i] > 0:\n",
    "                Wdel[i] = 1\n",
    "            if Wdel[i] < 0:\n",
    "                Wdel[i] = -1\n",
    "            else:\n",
    "                Wdel[i] = 0\n",
    "        delta += lamb*Wdel\n",
    "    \n",
    "    W = W - eta*delta\n",
    "    \n",
    "    return W"
   ]
  },
  {
   "cell_type": "code",
   "execution_count": 55,
   "metadata": {},
   "outputs": [],
   "source": [
    "def show(W, error, d):\n",
    "    \n",
    "    for i in range(d):\n",
    "        print(W[i])\n",
    "    print('Error: ' + str(error) + '\\n')"
   ]
  },
  {
   "cell_type": "code",
   "execution_count": 56,
   "metadata": {},
   "outputs": [],
   "source": [
    "def predict(W, X):\n",
    "    \n",
    "    return X.dot(W)"
   ]
  },
  {
   "cell_type": "code",
   "execution_count": 113,
   "metadata": {},
   "outputs": [],
   "source": [
    "def generate_model(x, y, T, deg, maxIter, eta, lamb = 0, reg = 'L2'):\n",
    "       \n",
    "    N = len(x)\n",
    "    featureMatrix, d = generate_features(x, y, N, deg)\n",
    "    \n",
    "    # initial weights vector\n",
    "    # random initialization\n",
    "    random.seed(12)\n",
    "    W = np.array([random.random() for i in range(d)])\n",
    "    # zero initialization\n",
    "    # W = np.array([0 for i in range(d)])\n",
    "    \n",
    "    prevError = 0\n",
    "    currentError = 0\n",
    "    errors = []\n",
    "    \n",
    "    for i in tqdm_notebook(range(maxIter)):\n",
    "        \n",
    "        H = predict(W, featureMatrix)\n",
    "        if reg == 'L2':\n",
    "            E = (0.5*(H - T).dot(np.transpose(H - T))) + (0.5*lamb*sum(W*W))\n",
    "        else:\n",
    "            E = (0.5*(H - T).dot(np.transpose(H - T))) + (0.5*lamb*sum((W*W)**0.5))\n",
    "        prevError = currentError\n",
    "        currentError = E\n",
    "        errors.append(currentError)\n",
    "        #=======\n",
    "        # Perform termination check here using prevError and currentError\n",
    "        #=======\n",
    "        # print(0.5*lamb*sum(W*W))\n",
    "        # show(W, currentError, d)\n",
    "        W = update_weights(W, np.transpose(featureMatrix), H - T, eta, lamb, reg)\n",
    "        \n",
    "    return W, errors"
   ]
  },
  {
   "cell_type": "code",
   "execution_count": 58,
   "metadata": {},
   "outputs": [],
   "source": [
    "def generate_stochastic(x, y, T, deg, maxIter, eta, lamb = 0):\n",
    "    \n",
    "    random.seed(12)\n",
    "    featureMatrix, d = generate_features(x[0], y[0], 1, deg)\n",
    "    W = np.array([random.random() for i in range(d)])\n",
    "    errors = []\n",
    "    N = len(T)\n",
    "    \n",
    "    for i in range(maxIter):\n",
    "        \n",
    "        featureMatrix, d = generate_features(x[i%N], y[i%N], 1, deg)\n",
    "        H = predict(W, featureMatrix)\n",
    "        E = (0.5*(H - T[i%N]).dot(np.transpose(H - T[i%N]))) + (0.5*lamb*sum(W*W))\n",
    "        errors.append(E)\n",
    "        W = update_weights(W, np.transpose(featureMatrix), H - T[i%N], eta, lamb)\n",
    "        \n",
    "    return W, errors"
   ]
  },
  {
   "cell_type": "code",
   "execution_count": 59,
   "metadata": {},
   "outputs": [],
   "source": [
    "def calc_R2(T, H):\n",
    "    \n",
    "    tss = sum((T - np.mean(T))*(T - np.mean(T)))\n",
    "    rss = sum((T - H)*(T - H))\n",
    "    \n",
    "    return 1 - (rss/tss)"
   ]
  },
  {
   "cell_type": "code",
   "execution_count": 60,
   "metadata": {},
   "outputs": [],
   "source": [
    "def calc_rmse(T, H):\n",
    "    \n",
    "    se = sum((T - H)*(T - H))\n",
    "    mse = se/len(T)\n",
    "    rmse = mse ** 0.5\n",
    "    \n",
    "    return rmse"
   ]
  },
  {
   "cell_type": "code",
   "execution_count": 61,
   "metadata": {},
   "outputs": [],
   "source": [
    "def plot_loss(errors, numIters, interval):\n",
    "    \n",
    "    xLabels = [i for i in range(0, numIters) if i % interval == 0]\n",
    "    plt.plot(xLabels, [errors[i] for i in range(len(errors)) if i % interval == 0])"
   ]
  },
  {
   "cell_type": "code",
   "execution_count": 119,
   "metadata": {},
   "outputs": [],
   "source": [
    "def normal_equation(x, y, T, deg):\n",
    "    \n",
    "    N = len(x)\n",
    "    featureMatrix, d = generate_features(x, y, N, deg)\n",
    "    \n",
    "    W = np.matmul(np.transpose(featureMatrix), featureMatrix)\n",
    "    W = np.linalg.inv(W)\n",
    "    W = np.matmul(W, np.transpose(featureMatrix))\n",
    "    W = np.dot(W, T)\n",
    "    \n",
    "    return W"
   ]
  },
  {
   "cell_type": "code",
   "execution_count": 164,
   "metadata": {},
   "outputs": [],
   "source": [
    "def get_best_lambda(x, y, T):\n",
    "    \n",
    "    x_train, y_train, T_train, x_val, y_val, T_val, x_test, y_test, T_test = split(x, y, T)\n",
    "    \n",
    "    W = np.array([])\n",
    "    curr_lambda = 0\n",
    "    \n",
    "    l = 0\n",
    "    r = 1000\n",
    "    numIters = 1000\n",
    "    cnt = 0\n",
    "    \n",
    "    lambdas = []\n",
    "    rmses = []\n",
    "    \n",
    "    while l <= r and cnt < 25:\n",
    "        \n",
    "        curr_lambda = (l + r) / 2\n",
    "        W, errors = generate_model(x_train, y_train, T_train, 1, numIters, 0.0000003, curr_lambda, 'L2')\n",
    "        X, num = generate_features(x_val, y_val, len(x_val), 1)\n",
    "        H = predict(W, X)\n",
    "        rmse = calc_rmse(T_val, H)\n",
    "        lambdas.append(curr_lambda)\n",
    "        rmses.append(rmse)\n",
    "        \n",
    "        W1, errors = generate_model(x_train, y_train, T_train, 1, numIters, 0.0000003, curr_lambda+0.01*curr_lambda, 'L2')\n",
    "        X, num = generate_features(x_val, y_val, len(x_val), 1)\n",
    "        H = predict(W1, X)\n",
    "        rmse1 = calc_rmse(T_val, H)\n",
    "        W2, errors = generate_model(x_train, y_train, T_train, 1, numIters, 0.0000003, curr_lambda-0.01*curr_lambda, 'L2')\n",
    "        X, num = generate_features(x_val, y_val, len(x_val), 1)\n",
    "        H = predict(W2, X)\n",
    "        rmse2 = calc_rmse(T_val, H)\n",
    "        \n",
    "        if rmse < rmse1 and rmse < rmse2:\n",
    "            break\n",
    "            \n",
    "        elif rmse < rmse1 and rmse > rmse2:\n",
    "            r = curr_lambda\n",
    "            \n",
    "        elif rmse > rmse1 and rmse < rmse2:\n",
    "            l = curr_lambda\n",
    "            \n",
    "        cnt += 1\n",
    "        print(cnt)\n",
    "        \n",
    "    X, num = generate_features(x_test, y_test, len(x_test), 1)\n",
    "    H = predict(W, X)\n",
    "    print('R2 error: ', calc_R2(T_test, H))    \n",
    "    print('RMS error: ', calc_rmse(T_test, H))\n",
    "    \n",
    "    return W, curr_lambda, lambdas, rmses"
   ]
  },
  {
   "cell_type": "code",
   "execution_count": 62,
   "metadata": {},
   "outputs": [],
   "source": [
    "def scikit_regression(x, y, T):\n",
    "    \n",
    "    data = [[x[i],y[i]] for i in range(len(x))]\n",
    "    reg = linear_model.LinearRegression()\n",
    "    reg.fit(data, T)\n",
    "    return np.concatenate((np.array([reg.intercept_]),reg.coef_))"
   ]
  },
  {
   "cell_type": "code",
   "execution_count": 63,
   "metadata": {},
   "outputs": [],
   "source": [
    "normalizedx = normalize(x)\n",
    "normalizedy = normalize(y)\n",
    "normalizedT = normalize(T)"
   ]
  },
  {
   "cell_type": "code",
   "execution_count": 165,
   "metadata": {},
   "outputs": [
    {
     "data": {
      "application/vnd.jupyter.widget-view+json": {
       "model_id": "11b37e1157ef44c6a4258813a204987b",
       "version_major": 2,
       "version_minor": 0
      },
      "text/plain": [
       "HBox(children=(IntProgress(value=0, max=1000), HTML(value='')))"
      ]
     },
     "metadata": {},
     "output_type": "display_data"
    },
    {
     "name": "stdout",
     "output_type": "stream",
     "text": [
      "\n"
     ]
    },
    {
     "data": {
      "application/vnd.jupyter.widget-view+json": {
       "model_id": "8e155342e6ae4d5fb4889c9ac3517f55",
       "version_major": 2,
       "version_minor": 0
      },
      "text/plain": [
       "HBox(children=(IntProgress(value=0, max=1000), HTML(value='')))"
      ]
     },
     "metadata": {},
     "output_type": "display_data"
    },
    {
     "name": "stdout",
     "output_type": "stream",
     "text": [
      "\n"
     ]
    },
    {
     "data": {
      "application/vnd.jupyter.widget-view+json": {
       "model_id": "99dc6122918745a395bf7807da9f2c8e",
       "version_major": 2,
       "version_minor": 0
      },
      "text/plain": [
       "HBox(children=(IntProgress(value=0, max=1000), HTML(value='')))"
      ]
     },
     "metadata": {},
     "output_type": "display_data"
    },
    {
     "name": "stdout",
     "output_type": "stream",
     "text": [
      "\n",
      "1\n"
     ]
    },
    {
     "data": {
      "application/vnd.jupyter.widget-view+json": {
       "model_id": "b218c47bc1334e1fa3043407328d87de",
       "version_major": 2,
       "version_minor": 0
      },
      "text/plain": [
       "HBox(children=(IntProgress(value=0, max=1000), HTML(value='')))"
      ]
     },
     "metadata": {},
     "output_type": "display_data"
    },
    {
     "name": "stdout",
     "output_type": "stream",
     "text": [
      "\n"
     ]
    },
    {
     "data": {
      "application/vnd.jupyter.widget-view+json": {
       "model_id": "f65e08c8a81344feb597409fade97e00",
       "version_major": 2,
       "version_minor": 0
      },
      "text/plain": [
       "HBox(children=(IntProgress(value=0, max=1000), HTML(value='')))"
      ]
     },
     "metadata": {},
     "output_type": "display_data"
    },
    {
     "name": "stdout",
     "output_type": "stream",
     "text": [
      "\n"
     ]
    },
    {
     "data": {
      "application/vnd.jupyter.widget-view+json": {
       "model_id": "307a08f0a2c9452b8b2e9dc55688f9c9",
       "version_major": 2,
       "version_minor": 0
      },
      "text/plain": [
       "HBox(children=(IntProgress(value=0, max=1000), HTML(value='')))"
      ]
     },
     "metadata": {},
     "output_type": "display_data"
    },
    {
     "name": "stdout",
     "output_type": "stream",
     "text": [
      "\n",
      "2\n"
     ]
    },
    {
     "data": {
      "application/vnd.jupyter.widget-view+json": {
       "model_id": "3f82df74fd4d45acb47520f73ffde2cb",
       "version_major": 2,
       "version_minor": 0
      },
      "text/plain": [
       "HBox(children=(IntProgress(value=0, max=1000), HTML(value='')))"
      ]
     },
     "metadata": {},
     "output_type": "display_data"
    },
    {
     "name": "stdout",
     "output_type": "stream",
     "text": [
      "\n"
     ]
    },
    {
     "data": {
      "application/vnd.jupyter.widget-view+json": {
       "model_id": "34c783a238bb4217b6d832a8fb2d4dc9",
       "version_major": 2,
       "version_minor": 0
      },
      "text/plain": [
       "HBox(children=(IntProgress(value=0, max=1000), HTML(value='')))"
      ]
     },
     "metadata": {},
     "output_type": "display_data"
    },
    {
     "name": "stdout",
     "output_type": "stream",
     "text": [
      "\n"
     ]
    },
    {
     "data": {
      "application/vnd.jupyter.widget-view+json": {
       "model_id": "114ef59dc94a4d26ae47a7fceb06f0d4",
       "version_major": 2,
       "version_minor": 0
      },
      "text/plain": [
       "HBox(children=(IntProgress(value=0, max=1000), HTML(value='')))"
      ]
     },
     "metadata": {},
     "output_type": "display_data"
    },
    {
     "name": "stdout",
     "output_type": "stream",
     "text": [
      "\n",
      "3\n"
     ]
    },
    {
     "data": {
      "application/vnd.jupyter.widget-view+json": {
       "model_id": "bcd9ed664a994498b52d22fca518595a",
       "version_major": 2,
       "version_minor": 0
      },
      "text/plain": [
       "HBox(children=(IntProgress(value=0, max=1000), HTML(value='')))"
      ]
     },
     "metadata": {},
     "output_type": "display_data"
    },
    {
     "name": "stdout",
     "output_type": "stream",
     "text": [
      "\n"
     ]
    },
    {
     "data": {
      "application/vnd.jupyter.widget-view+json": {
       "model_id": "24e065348d2b43488432edd655ffc480",
       "version_major": 2,
       "version_minor": 0
      },
      "text/plain": [
       "HBox(children=(IntProgress(value=0, max=1000), HTML(value='')))"
      ]
     },
     "metadata": {},
     "output_type": "display_data"
    },
    {
     "name": "stdout",
     "output_type": "stream",
     "text": [
      "\n"
     ]
    },
    {
     "data": {
      "application/vnd.jupyter.widget-view+json": {
       "model_id": "53727329a8214cfba20b11a8aaa38684",
       "version_major": 2,
       "version_minor": 0
      },
      "text/plain": [
       "HBox(children=(IntProgress(value=0, max=1000), HTML(value='')))"
      ]
     },
     "metadata": {},
     "output_type": "display_data"
    },
    {
     "name": "stdout",
     "output_type": "stream",
     "text": [
      "\n",
      "4\n"
     ]
    },
    {
     "data": {
      "application/vnd.jupyter.widget-view+json": {
       "model_id": "9503dc2bfd124d1c9171e584d494d23d",
       "version_major": 2,
       "version_minor": 0
      },
      "text/plain": [
       "HBox(children=(IntProgress(value=0, max=1000), HTML(value='')))"
      ]
     },
     "metadata": {},
     "output_type": "display_data"
    },
    {
     "name": "stdout",
     "output_type": "stream",
     "text": [
      "\n"
     ]
    },
    {
     "data": {
      "application/vnd.jupyter.widget-view+json": {
       "model_id": "3f411cfcbcf24a659d8a08b8bc2005da",
       "version_major": 2,
       "version_minor": 0
      },
      "text/plain": [
       "HBox(children=(IntProgress(value=0, max=1000), HTML(value='')))"
      ]
     },
     "metadata": {},
     "output_type": "display_data"
    },
    {
     "name": "stdout",
     "output_type": "stream",
     "text": [
      "\n"
     ]
    },
    {
     "data": {
      "application/vnd.jupyter.widget-view+json": {
       "model_id": "f2f866b841294073859db32b6f4f6916",
       "version_major": 2,
       "version_minor": 0
      },
      "text/plain": [
       "HBox(children=(IntProgress(value=0, max=1000), HTML(value='')))"
      ]
     },
     "metadata": {},
     "output_type": "display_data"
    },
    {
     "name": "stdout",
     "output_type": "stream",
     "text": [
      "\n",
      "5\n"
     ]
    },
    {
     "data": {
      "application/vnd.jupyter.widget-view+json": {
       "model_id": "f7ed581349fc4396b0ea1242ab253a5b",
       "version_major": 2,
       "version_minor": 0
      },
      "text/plain": [
       "HBox(children=(IntProgress(value=0, max=1000), HTML(value='')))"
      ]
     },
     "metadata": {},
     "output_type": "display_data"
    },
    {
     "name": "stdout",
     "output_type": "stream",
     "text": [
      "\n"
     ]
    },
    {
     "data": {
      "application/vnd.jupyter.widget-view+json": {
       "model_id": "49f10e92e71347678d97258b16fb8378",
       "version_major": 2,
       "version_minor": 0
      },
      "text/plain": [
       "HBox(children=(IntProgress(value=0, max=1000), HTML(value='')))"
      ]
     },
     "metadata": {},
     "output_type": "display_data"
    },
    {
     "name": "stdout",
     "output_type": "stream",
     "text": [
      "\n"
     ]
    },
    {
     "data": {
      "application/vnd.jupyter.widget-view+json": {
       "model_id": "0e3df285c8bc44e3bb4d1d3a67cd87ca",
       "version_major": 2,
       "version_minor": 0
      },
      "text/plain": [
       "HBox(children=(IntProgress(value=0, max=1000), HTML(value='')))"
      ]
     },
     "metadata": {},
     "output_type": "display_data"
    },
    {
     "name": "stdout",
     "output_type": "stream",
     "text": [
      "\n",
      "6\n"
     ]
    },
    {
     "data": {
      "application/vnd.jupyter.widget-view+json": {
       "model_id": "72c5ab12c5564fba9dcb7c9947498b4b",
       "version_major": 2,
       "version_minor": 0
      },
      "text/plain": [
       "HBox(children=(IntProgress(value=0, max=1000), HTML(value='')))"
      ]
     },
     "metadata": {},
     "output_type": "display_data"
    },
    {
     "name": "stdout",
     "output_type": "stream",
     "text": [
      "\n"
     ]
    },
    {
     "data": {
      "application/vnd.jupyter.widget-view+json": {
       "model_id": "82134d3273c3407c9594ef93ff9be2e4",
       "version_major": 2,
       "version_minor": 0
      },
      "text/plain": [
       "HBox(children=(IntProgress(value=0, max=1000), HTML(value='')))"
      ]
     },
     "metadata": {},
     "output_type": "display_data"
    },
    {
     "name": "stdout",
     "output_type": "stream",
     "text": [
      "\n"
     ]
    },
    {
     "data": {
      "application/vnd.jupyter.widget-view+json": {
       "model_id": "08f4ade3df8e4d89b1a1469e7f3dbae7",
       "version_major": 2,
       "version_minor": 0
      },
      "text/plain": [
       "HBox(children=(IntProgress(value=0, max=1000), HTML(value='')))"
      ]
     },
     "metadata": {},
     "output_type": "display_data"
    },
    {
     "name": "stdout",
     "output_type": "stream",
     "text": [
      "\n",
      "7\n"
     ]
    },
    {
     "data": {
      "application/vnd.jupyter.widget-view+json": {
       "model_id": "443462eeecff4f5fbb285df5e0a75375",
       "version_major": 2,
       "version_minor": 0
      },
      "text/plain": [
       "HBox(children=(IntProgress(value=0, max=1000), HTML(value='')))"
      ]
     },
     "metadata": {},
     "output_type": "display_data"
    },
    {
     "name": "stdout",
     "output_type": "stream",
     "text": [
      "\n"
     ]
    },
    {
     "data": {
      "application/vnd.jupyter.widget-view+json": {
       "model_id": "210b469f03c34e76a386221bcbea77de",
       "version_major": 2,
       "version_minor": 0
      },
      "text/plain": [
       "HBox(children=(IntProgress(value=0, max=1000), HTML(value='')))"
      ]
     },
     "metadata": {},
     "output_type": "display_data"
    },
    {
     "name": "stdout",
     "output_type": "stream",
     "text": [
      "\n"
     ]
    },
    {
     "data": {
      "application/vnd.jupyter.widget-view+json": {
       "model_id": "1db8185e807c456292e38c904562f9f8",
       "version_major": 2,
       "version_minor": 0
      },
      "text/plain": [
       "HBox(children=(IntProgress(value=0, max=1000), HTML(value='')))"
      ]
     },
     "metadata": {},
     "output_type": "display_data"
    },
    {
     "name": "stdout",
     "output_type": "stream",
     "text": [
      "\n",
      "8\n"
     ]
    },
    {
     "data": {
      "application/vnd.jupyter.widget-view+json": {
       "model_id": "a0e76f8490b04f3c81e83c62eaaa8bf2",
       "version_major": 2,
       "version_minor": 0
      },
      "text/plain": [
       "HBox(children=(IntProgress(value=0, max=1000), HTML(value='')))"
      ]
     },
     "metadata": {},
     "output_type": "display_data"
    },
    {
     "name": "stdout",
     "output_type": "stream",
     "text": [
      "\n"
     ]
    },
    {
     "data": {
      "application/vnd.jupyter.widget-view+json": {
       "model_id": "6c33caf2139c4bbfbe84bd12005cf799",
       "version_major": 2,
       "version_minor": 0
      },
      "text/plain": [
       "HBox(children=(IntProgress(value=0, max=1000), HTML(value='')))"
      ]
     },
     "metadata": {},
     "output_type": "display_data"
    },
    {
     "name": "stdout",
     "output_type": "stream",
     "text": [
      "\n"
     ]
    },
    {
     "data": {
      "application/vnd.jupyter.widget-view+json": {
       "model_id": "4c641028505c48c0956f424bda9e29f3",
       "version_major": 2,
       "version_minor": 0
      },
      "text/plain": [
       "HBox(children=(IntProgress(value=0, max=1000), HTML(value='')))"
      ]
     },
     "metadata": {},
     "output_type": "display_data"
    },
    {
     "name": "stdout",
     "output_type": "stream",
     "text": [
      "\n",
      "9\n"
     ]
    },
    {
     "data": {
      "application/vnd.jupyter.widget-view+json": {
       "model_id": "e3779618342f4e97b691dc28cdd93739",
       "version_major": 2,
       "version_minor": 0
      },
      "text/plain": [
       "HBox(children=(IntProgress(value=0, max=1000), HTML(value='')))"
      ]
     },
     "metadata": {},
     "output_type": "display_data"
    },
    {
     "name": "stdout",
     "output_type": "stream",
     "text": [
      "\n"
     ]
    },
    {
     "data": {
      "application/vnd.jupyter.widget-view+json": {
       "model_id": "f50ac13ccfdc46e287f5189c1129b2eb",
       "version_major": 2,
       "version_minor": 0
      },
      "text/plain": [
       "HBox(children=(IntProgress(value=0, max=1000), HTML(value='')))"
      ]
     },
     "metadata": {},
     "output_type": "display_data"
    },
    {
     "name": "stdout",
     "output_type": "stream",
     "text": [
      "\n"
     ]
    },
    {
     "data": {
      "application/vnd.jupyter.widget-view+json": {
       "model_id": "38a25b36f25845faa5c7a0fb781609e2",
       "version_major": 2,
       "version_minor": 0
      },
      "text/plain": [
       "HBox(children=(IntProgress(value=0, max=1000), HTML(value='')))"
      ]
     },
     "metadata": {},
     "output_type": "display_data"
    },
    {
     "name": "stdout",
     "output_type": "stream",
     "text": [
      "\n",
      "10\n"
     ]
    },
    {
     "data": {
      "application/vnd.jupyter.widget-view+json": {
       "model_id": "973f59c91a9945aaa7e2d3edec528f81",
       "version_major": 2,
       "version_minor": 0
      },
      "text/plain": [
       "HBox(children=(IntProgress(value=0, max=1000), HTML(value='')))"
      ]
     },
     "metadata": {},
     "output_type": "display_data"
    },
    {
     "name": "stdout",
     "output_type": "stream",
     "text": [
      "\n"
     ]
    },
    {
     "data": {
      "application/vnd.jupyter.widget-view+json": {
       "model_id": "0f55d223ac20495ca033054cd6f2d3bf",
       "version_major": 2,
       "version_minor": 0
      },
      "text/plain": [
       "HBox(children=(IntProgress(value=0, max=1000), HTML(value='')))"
      ]
     },
     "metadata": {},
     "output_type": "display_data"
    },
    {
     "name": "stdout",
     "output_type": "stream",
     "text": [
      "\n"
     ]
    },
    {
     "data": {
      "application/vnd.jupyter.widget-view+json": {
       "model_id": "4a1cd139ed294c4ebb902ea7b1e85069",
       "version_major": 2,
       "version_minor": 0
      },
      "text/plain": [
       "HBox(children=(IntProgress(value=0, max=1000), HTML(value='')))"
      ]
     },
     "metadata": {},
     "output_type": "display_data"
    },
    {
     "name": "stdout",
     "output_type": "stream",
     "text": [
      "\n",
      "11\n"
     ]
    },
    {
     "data": {
      "application/vnd.jupyter.widget-view+json": {
       "model_id": "5e1f1f21666741e5a480974a5eec98b3",
       "version_major": 2,
       "version_minor": 0
      },
      "text/plain": [
       "HBox(children=(IntProgress(value=0, max=1000), HTML(value='')))"
      ]
     },
     "metadata": {},
     "output_type": "display_data"
    },
    {
     "name": "stdout",
     "output_type": "stream",
     "text": [
      "\n"
     ]
    },
    {
     "data": {
      "application/vnd.jupyter.widget-view+json": {
       "model_id": "97724eb9305b4df18e7f95eba4e47e89",
       "version_major": 2,
       "version_minor": 0
      },
      "text/plain": [
       "HBox(children=(IntProgress(value=0, max=1000), HTML(value='')))"
      ]
     },
     "metadata": {},
     "output_type": "display_data"
    },
    {
     "name": "stdout",
     "output_type": "stream",
     "text": [
      "\n"
     ]
    },
    {
     "data": {
      "application/vnd.jupyter.widget-view+json": {
       "model_id": "0930a38f2bdb4d7d938af6899bce0f66",
       "version_major": 2,
       "version_minor": 0
      },
      "text/plain": [
       "HBox(children=(IntProgress(value=0, max=1000), HTML(value='')))"
      ]
     },
     "metadata": {},
     "output_type": "display_data"
    },
    {
     "name": "stdout",
     "output_type": "stream",
     "text": [
      "\n",
      "12\n"
     ]
    },
    {
     "data": {
      "application/vnd.jupyter.widget-view+json": {
       "model_id": "28166f800fd84a02a41c278e947686db",
       "version_major": 2,
       "version_minor": 0
      },
      "text/plain": [
       "HBox(children=(IntProgress(value=0, max=1000), HTML(value='')))"
      ]
     },
     "metadata": {},
     "output_type": "display_data"
    },
    {
     "name": "stdout",
     "output_type": "stream",
     "text": [
      "\n"
     ]
    },
    {
     "data": {
      "application/vnd.jupyter.widget-view+json": {
       "model_id": "1353eacc0dba40269faac6592af674ed",
       "version_major": 2,
       "version_minor": 0
      },
      "text/plain": [
       "HBox(children=(IntProgress(value=0, max=1000), HTML(value='')))"
      ]
     },
     "metadata": {},
     "output_type": "display_data"
    },
    {
     "name": "stdout",
     "output_type": "stream",
     "text": [
      "\n"
     ]
    },
    {
     "data": {
      "application/vnd.jupyter.widget-view+json": {
       "model_id": "d847f125c5af4da58e2033c1ad1bf982",
       "version_major": 2,
       "version_minor": 0
      },
      "text/plain": [
       "HBox(children=(IntProgress(value=0, max=1000), HTML(value='')))"
      ]
     },
     "metadata": {},
     "output_type": "display_data"
    },
    {
     "name": "stdout",
     "output_type": "stream",
     "text": [
      "\n",
      "13\n"
     ]
    },
    {
     "data": {
      "application/vnd.jupyter.widget-view+json": {
       "model_id": "c8560cb581b24d35875408e9d898856b",
       "version_major": 2,
       "version_minor": 0
      },
      "text/plain": [
       "HBox(children=(IntProgress(value=0, max=1000), HTML(value='')))"
      ]
     },
     "metadata": {},
     "output_type": "display_data"
    },
    {
     "name": "stdout",
     "output_type": "stream",
     "text": [
      "\n"
     ]
    },
    {
     "data": {
      "application/vnd.jupyter.widget-view+json": {
       "model_id": "ef8fb975b5034b45a497ea0c1de3b37b",
       "version_major": 2,
       "version_minor": 0
      },
      "text/plain": [
       "HBox(children=(IntProgress(value=0, max=1000), HTML(value='')))"
      ]
     },
     "metadata": {},
     "output_type": "display_data"
    },
    {
     "name": "stdout",
     "output_type": "stream",
     "text": [
      "\n"
     ]
    },
    {
     "data": {
      "application/vnd.jupyter.widget-view+json": {
       "model_id": "901933b097664caab759d9946299eae2",
       "version_major": 2,
       "version_minor": 0
      },
      "text/plain": [
       "HBox(children=(IntProgress(value=0, max=1000), HTML(value='')))"
      ]
     },
     "metadata": {},
     "output_type": "display_data"
    },
    {
     "name": "stdout",
     "output_type": "stream",
     "text": [
      "\n",
      "14\n"
     ]
    },
    {
     "data": {
      "application/vnd.jupyter.widget-view+json": {
       "model_id": "20705de3dd4a4f61a778043fd39daa38",
       "version_major": 2,
       "version_minor": 0
      },
      "text/plain": [
       "HBox(children=(IntProgress(value=0, max=1000), HTML(value='')))"
      ]
     },
     "metadata": {},
     "output_type": "display_data"
    },
    {
     "name": "stdout",
     "output_type": "stream",
     "text": [
      "\n"
     ]
    },
    {
     "data": {
      "application/vnd.jupyter.widget-view+json": {
       "model_id": "7b864a27750c4bce8d4c2f319d70a43f",
       "version_major": 2,
       "version_minor": 0
      },
      "text/plain": [
       "HBox(children=(IntProgress(value=0, max=1000), HTML(value='')))"
      ]
     },
     "metadata": {},
     "output_type": "display_data"
    },
    {
     "name": "stdout",
     "output_type": "stream",
     "text": [
      "\n"
     ]
    },
    {
     "data": {
      "application/vnd.jupyter.widget-view+json": {
       "model_id": "d18c742075d24077b18da6cc681c11bc",
       "version_major": 2,
       "version_minor": 0
      },
      "text/plain": [
       "HBox(children=(IntProgress(value=0, max=1000), HTML(value='')))"
      ]
     },
     "metadata": {},
     "output_type": "display_data"
    },
    {
     "name": "stdout",
     "output_type": "stream",
     "text": [
      "\n",
      "15\n"
     ]
    },
    {
     "data": {
      "application/vnd.jupyter.widget-view+json": {
       "model_id": "3cb1ef8d83884894bf311edecc684ac6",
       "version_major": 2,
       "version_minor": 0
      },
      "text/plain": [
       "HBox(children=(IntProgress(value=0, max=1000), HTML(value='')))"
      ]
     },
     "metadata": {},
     "output_type": "display_data"
    },
    {
     "name": "stdout",
     "output_type": "stream",
     "text": [
      "\n"
     ]
    },
    {
     "data": {
      "application/vnd.jupyter.widget-view+json": {
       "model_id": "2883a0423c214b2e8698f57b3cbb747b",
       "version_major": 2,
       "version_minor": 0
      },
      "text/plain": [
       "HBox(children=(IntProgress(value=0, max=1000), HTML(value='')))"
      ]
     },
     "metadata": {},
     "output_type": "display_data"
    },
    {
     "name": "stdout",
     "output_type": "stream",
     "text": [
      "\n"
     ]
    },
    {
     "data": {
      "application/vnd.jupyter.widget-view+json": {
       "model_id": "53a5cc346d8c4d4dbd6d85bfd959b468",
       "version_major": 2,
       "version_minor": 0
      },
      "text/plain": [
       "HBox(children=(IntProgress(value=0, max=1000), HTML(value='')))"
      ]
     },
     "metadata": {},
     "output_type": "display_data"
    },
    {
     "name": "stdout",
     "output_type": "stream",
     "text": [
      "\n",
      "16\n"
     ]
    },
    {
     "data": {
      "application/vnd.jupyter.widget-view+json": {
       "model_id": "d08a4391987447bd9728213d064b22d4",
       "version_major": 2,
       "version_minor": 0
      },
      "text/plain": [
       "HBox(children=(IntProgress(value=0, max=1000), HTML(value='')))"
      ]
     },
     "metadata": {},
     "output_type": "display_data"
    },
    {
     "name": "stdout",
     "output_type": "stream",
     "text": [
      "\n"
     ]
    },
    {
     "data": {
      "application/vnd.jupyter.widget-view+json": {
       "model_id": "e4c101f96376400b80df4474df07c3a9",
       "version_major": 2,
       "version_minor": 0
      },
      "text/plain": [
       "HBox(children=(IntProgress(value=0, max=1000), HTML(value='')))"
      ]
     },
     "metadata": {},
     "output_type": "display_data"
    },
    {
     "name": "stdout",
     "output_type": "stream",
     "text": [
      "\n"
     ]
    },
    {
     "data": {
      "application/vnd.jupyter.widget-view+json": {
       "model_id": "6a2b6b29d2034ff39305bdff7f5e1576",
       "version_major": 2,
       "version_minor": 0
      },
      "text/plain": [
       "HBox(children=(IntProgress(value=0, max=1000), HTML(value='')))"
      ]
     },
     "metadata": {},
     "output_type": "display_data"
    },
    {
     "name": "stdout",
     "output_type": "stream",
     "text": [
      "\n",
      "17\n"
     ]
    },
    {
     "data": {
      "application/vnd.jupyter.widget-view+json": {
       "model_id": "31e2d7e75b39445885cbe391a19f0776",
       "version_major": 2,
       "version_minor": 0
      },
      "text/plain": [
       "HBox(children=(IntProgress(value=0, max=1000), HTML(value='')))"
      ]
     },
     "metadata": {},
     "output_type": "display_data"
    },
    {
     "name": "stdout",
     "output_type": "stream",
     "text": [
      "\n"
     ]
    },
    {
     "data": {
      "application/vnd.jupyter.widget-view+json": {
       "model_id": "7d9c7180f6a24254b7d2302a6bcf874c",
       "version_major": 2,
       "version_minor": 0
      },
      "text/plain": [
       "HBox(children=(IntProgress(value=0, max=1000), HTML(value='')))"
      ]
     },
     "metadata": {},
     "output_type": "display_data"
    },
    {
     "name": "stdout",
     "output_type": "stream",
     "text": [
      "\n"
     ]
    },
    {
     "data": {
      "application/vnd.jupyter.widget-view+json": {
       "model_id": "fd41ca44fc004195b679c4473fda2496",
       "version_major": 2,
       "version_minor": 0
      },
      "text/plain": [
       "HBox(children=(IntProgress(value=0, max=1000), HTML(value='')))"
      ]
     },
     "metadata": {},
     "output_type": "display_data"
    },
    {
     "name": "stdout",
     "output_type": "stream",
     "text": [
      "\n",
      "18\n"
     ]
    },
    {
     "data": {
      "application/vnd.jupyter.widget-view+json": {
       "model_id": "17af90521d884ab9aa1a443d9c33078c",
       "version_major": 2,
       "version_minor": 0
      },
      "text/plain": [
       "HBox(children=(IntProgress(value=0, max=1000), HTML(value='')))"
      ]
     },
     "metadata": {},
     "output_type": "display_data"
    },
    {
     "name": "stdout",
     "output_type": "stream",
     "text": [
      "\n"
     ]
    },
    {
     "data": {
      "application/vnd.jupyter.widget-view+json": {
       "model_id": "b856b49e5bef4b1696d66302f5fe7d7c",
       "version_major": 2,
       "version_minor": 0
      },
      "text/plain": [
       "HBox(children=(IntProgress(value=0, max=1000), HTML(value='')))"
      ]
     },
     "metadata": {},
     "output_type": "display_data"
    },
    {
     "name": "stdout",
     "output_type": "stream",
     "text": [
      "\n"
     ]
    },
    {
     "data": {
      "application/vnd.jupyter.widget-view+json": {
       "model_id": "e674d55c6ab14a61bad41ed0992a32db",
       "version_major": 2,
       "version_minor": 0
      },
      "text/plain": [
       "HBox(children=(IntProgress(value=0, max=1000), HTML(value='')))"
      ]
     },
     "metadata": {},
     "output_type": "display_data"
    },
    {
     "name": "stdout",
     "output_type": "stream",
     "text": [
      "\n",
      "19\n"
     ]
    },
    {
     "data": {
      "application/vnd.jupyter.widget-view+json": {
       "model_id": "8e4b830ee132449bb0d4f05f16bc8b27",
       "version_major": 2,
       "version_minor": 0
      },
      "text/plain": [
       "HBox(children=(IntProgress(value=0, max=1000), HTML(value='')))"
      ]
     },
     "metadata": {},
     "output_type": "display_data"
    },
    {
     "name": "stdout",
     "output_type": "stream",
     "text": [
      "\n"
     ]
    },
    {
     "data": {
      "application/vnd.jupyter.widget-view+json": {
       "model_id": "d8b4eb133ead4251886b9d4a0e72b6a2",
       "version_major": 2,
       "version_minor": 0
      },
      "text/plain": [
       "HBox(children=(IntProgress(value=0, max=1000), HTML(value='')))"
      ]
     },
     "metadata": {},
     "output_type": "display_data"
    },
    {
     "name": "stdout",
     "output_type": "stream",
     "text": [
      "\n"
     ]
    },
    {
     "data": {
      "application/vnd.jupyter.widget-view+json": {
       "model_id": "fa254de6e6ce4fea8a3040d75edb88e8",
       "version_major": 2,
       "version_minor": 0
      },
      "text/plain": [
       "HBox(children=(IntProgress(value=0, max=1000), HTML(value='')))"
      ]
     },
     "metadata": {},
     "output_type": "display_data"
    },
    {
     "name": "stdout",
     "output_type": "stream",
     "text": [
      "\n",
      "20\n"
     ]
    },
    {
     "data": {
      "application/vnd.jupyter.widget-view+json": {
       "model_id": "076f18b9c8bc4818985664e45eeba5ce",
       "version_major": 2,
       "version_minor": 0
      },
      "text/plain": [
       "HBox(children=(IntProgress(value=0, max=1000), HTML(value='')))"
      ]
     },
     "metadata": {},
     "output_type": "display_data"
    },
    {
     "name": "stdout",
     "output_type": "stream",
     "text": [
      "\n"
     ]
    },
    {
     "data": {
      "application/vnd.jupyter.widget-view+json": {
       "model_id": "43e6718c42084dcdb9edb39ed4378c9a",
       "version_major": 2,
       "version_minor": 0
      },
      "text/plain": [
       "HBox(children=(IntProgress(value=0, max=1000), HTML(value='')))"
      ]
     },
     "metadata": {},
     "output_type": "display_data"
    },
    {
     "name": "stdout",
     "output_type": "stream",
     "text": [
      "\n"
     ]
    },
    {
     "data": {
      "application/vnd.jupyter.widget-view+json": {
       "model_id": "1678fee2200b4f2cbc3d7383fa2e14fb",
       "version_major": 2,
       "version_minor": 0
      },
      "text/plain": [
       "HBox(children=(IntProgress(value=0, max=1000), HTML(value='')))"
      ]
     },
     "metadata": {},
     "output_type": "display_data"
    },
    {
     "name": "stdout",
     "output_type": "stream",
     "text": [
      "\n",
      "21\n"
     ]
    },
    {
     "data": {
      "application/vnd.jupyter.widget-view+json": {
       "model_id": "765ecda86bda4a7e8840f1f2a5a2ae5c",
       "version_major": 2,
       "version_minor": 0
      },
      "text/plain": [
       "HBox(children=(IntProgress(value=0, max=1000), HTML(value='')))"
      ]
     },
     "metadata": {},
     "output_type": "display_data"
    },
    {
     "name": "stdout",
     "output_type": "stream",
     "text": [
      "\n"
     ]
    },
    {
     "data": {
      "application/vnd.jupyter.widget-view+json": {
       "model_id": "3fe85614bdb04036899ead1375f7b3e0",
       "version_major": 2,
       "version_minor": 0
      },
      "text/plain": [
       "HBox(children=(IntProgress(value=0, max=1000), HTML(value='')))"
      ]
     },
     "metadata": {},
     "output_type": "display_data"
    },
    {
     "name": "stdout",
     "output_type": "stream",
     "text": [
      "\n"
     ]
    },
    {
     "data": {
      "application/vnd.jupyter.widget-view+json": {
       "model_id": "ddb5032020934a279285f8903b66a018",
       "version_major": 2,
       "version_minor": 0
      },
      "text/plain": [
       "HBox(children=(IntProgress(value=0, max=1000), HTML(value='')))"
      ]
     },
     "metadata": {},
     "output_type": "display_data"
    },
    {
     "name": "stdout",
     "output_type": "stream",
     "text": [
      "\n",
      "22\n"
     ]
    },
    {
     "data": {
      "application/vnd.jupyter.widget-view+json": {
       "model_id": "9ccc2815c37148de97c8caaed62db729",
       "version_major": 2,
       "version_minor": 0
      },
      "text/plain": [
       "HBox(children=(IntProgress(value=0, max=1000), HTML(value='')))"
      ]
     },
     "metadata": {},
     "output_type": "display_data"
    },
    {
     "name": "stdout",
     "output_type": "stream",
     "text": [
      "\n"
     ]
    },
    {
     "data": {
      "application/vnd.jupyter.widget-view+json": {
       "model_id": "295dd499e0d9455fa5a9d3ed1713a9c7",
       "version_major": 2,
       "version_minor": 0
      },
      "text/plain": [
       "HBox(children=(IntProgress(value=0, max=1000), HTML(value='')))"
      ]
     },
     "metadata": {},
     "output_type": "display_data"
    },
    {
     "name": "stdout",
     "output_type": "stream",
     "text": [
      "\n"
     ]
    },
    {
     "data": {
      "application/vnd.jupyter.widget-view+json": {
       "model_id": "c430999807b04adab3b6b2f417f14c60",
       "version_major": 2,
       "version_minor": 0
      },
      "text/plain": [
       "HBox(children=(IntProgress(value=0, max=1000), HTML(value='')))"
      ]
     },
     "metadata": {},
     "output_type": "display_data"
    },
    {
     "name": "stdout",
     "output_type": "stream",
     "text": [
      "\n",
      "23\n"
     ]
    },
    {
     "data": {
      "application/vnd.jupyter.widget-view+json": {
       "model_id": "1ef85c3a6db14a3bbf9ffba57dbc184f",
       "version_major": 2,
       "version_minor": 0
      },
      "text/plain": [
       "HBox(children=(IntProgress(value=0, max=1000), HTML(value='')))"
      ]
     },
     "metadata": {},
     "output_type": "display_data"
    },
    {
     "name": "stdout",
     "output_type": "stream",
     "text": [
      "\n"
     ]
    },
    {
     "data": {
      "application/vnd.jupyter.widget-view+json": {
       "model_id": "7f114fe40aaa4120967acda1601513ad",
       "version_major": 2,
       "version_minor": 0
      },
      "text/plain": [
       "HBox(children=(IntProgress(value=0, max=1000), HTML(value='')))"
      ]
     },
     "metadata": {},
     "output_type": "display_data"
    },
    {
     "name": "stdout",
     "output_type": "stream",
     "text": [
      "\n"
     ]
    },
    {
     "data": {
      "application/vnd.jupyter.widget-view+json": {
       "model_id": "c7f90e3c0fc249eda9f2723789cb6c7c",
       "version_major": 2,
       "version_minor": 0
      },
      "text/plain": [
       "HBox(children=(IntProgress(value=0, max=1000), HTML(value='')))"
      ]
     },
     "metadata": {},
     "output_type": "display_data"
    },
    {
     "name": "stdout",
     "output_type": "stream",
     "text": [
      "\n",
      "24\n"
     ]
    },
    {
     "data": {
      "application/vnd.jupyter.widget-view+json": {
       "model_id": "79142c766c534e10a7de94eb8469511d",
       "version_major": 2,
       "version_minor": 0
      },
      "text/plain": [
       "HBox(children=(IntProgress(value=0, max=1000), HTML(value='')))"
      ]
     },
     "metadata": {},
     "output_type": "display_data"
    },
    {
     "name": "stdout",
     "output_type": "stream",
     "text": [
      "\n"
     ]
    },
    {
     "data": {
      "application/vnd.jupyter.widget-view+json": {
       "model_id": "9bb5de0959a94e48be15140badf50f6a",
       "version_major": 2,
       "version_minor": 0
      },
      "text/plain": [
       "HBox(children=(IntProgress(value=0, max=1000), HTML(value='')))"
      ]
     },
     "metadata": {},
     "output_type": "display_data"
    },
    {
     "name": "stdout",
     "output_type": "stream",
     "text": [
      "\n"
     ]
    },
    {
     "data": {
      "application/vnd.jupyter.widget-view+json": {
       "model_id": "226f7a8bf0d64046a5d61457ddd6f837",
       "version_major": 2,
       "version_minor": 0
      },
      "text/plain": [
       "HBox(children=(IntProgress(value=0, max=1000), HTML(value='')))"
      ]
     },
     "metadata": {},
     "output_type": "display_data"
    },
    {
     "name": "stdout",
     "output_type": "stream",
     "text": [
      "\n",
      "25\n",
      "R2 error:  0.027697608999357026\n",
      "RMS error:  18.603338974554326\n"
     ]
    }
   ],
   "source": [
    "# x_train, y_train, T_train, x_val, y_val, T_val, x_test, y_test, T_test = split(x, y, T)\n",
    "x_train, y_train, T_train, x_val, y_val, T_val, x_test, y_test, T_test = split(normalizedx, normalizedy, T)\n",
    "# x_train, y_train, T_train = normalizedx, normalizedy, normalizedT\n",
    "# x_train, y_train, T_train = x, y, T\n",
    "\n",
    "# for i in range(1,2):\n",
    "#     print('For degree ', i)\n",
    "#     numIters = 1000\n",
    "#     # W, errors = generate_model(x_train, y_train, T_train, i, numIters, 0.0000003, 1, 'L1')\n",
    "#     # W, errors = generate_model(x_train, y_train, T_train, i, numIters, 0.0000003, 1, 'L2')\n",
    "#     # print('Final loss: ', errors[len(errors) - 1])\n",
    "#     # plot_loss(errors, numIters, 20)\n",
    "#     W = normal_equation(x_train, y_train, T_train, 1)\n",
    "#     X, num = generate_features(x_val, y_val, len(x_val), i)\n",
    "#     H = predict(W, X)\n",
    "#     print('R2 error: ', calc_R2(T_val, H))    \n",
    "#     print('RMS error: ', calc_rmse(T_val, H))\n",
    "#     print(W)\n",
    "#     print(scikit_regression(x_train, y_train, T_train))\n",
    "#     print('\\n\\n')\n",
    "\n",
    "best_model, best_lambda, lambdas, rmses = get_best_lambda(normalizedx, normalizedy, T)\n",
    "# plt.plot(lambdas, rmses)\n",
    "\n",
    "# print(scikit_regression(x_train, y_train, T_train))\n",
    "# W, errors = generate_stochastic(x_train, y_train, T_train, 1, len(x_train)//2, 0.03)\n",
    "# print(W)\n",
    "# W, errors = generate_stochastic(x_train, y_train, T_train, 1, len(x_train), 0.03)\n",
    "# print(W)\n",
    "# W, errors = generate_stochastic(x_train, y_train, T_train, 1, len(x_train)*2, 0.03)\n",
    "# print(W)\n",
    "# W, errors = generate_stochastic(x_train, y_train, T_train, 1, len(x_train)*4, 0.03)\n",
    "# print(W)"
   ]
  },
  {
   "cell_type": "code",
   "execution_count": 168,
   "metadata": {},
   "outputs": [
    {
     "data": {
      "application/javascript": [
       "/* Put everything inside the global mpl namespace */\n",
       "window.mpl = {};\n",
       "\n",
       "\n",
       "mpl.get_websocket_type = function() {\n",
       "    if (typeof(WebSocket) !== 'undefined') {\n",
       "        return WebSocket;\n",
       "    } else if (typeof(MozWebSocket) !== 'undefined') {\n",
       "        return MozWebSocket;\n",
       "    } else {\n",
       "        alert('Your browser does not have WebSocket support.' +\n",
       "              'Please try Chrome, Safari or Firefox ≥ 6. ' +\n",
       "              'Firefox 4 and 5 are also supported but you ' +\n",
       "              'have to enable WebSockets in about:config.');\n",
       "    };\n",
       "}\n",
       "\n",
       "mpl.figure = function(figure_id, websocket, ondownload, parent_element) {\n",
       "    this.id = figure_id;\n",
       "\n",
       "    this.ws = websocket;\n",
       "\n",
       "    this.supports_binary = (this.ws.binaryType != undefined);\n",
       "\n",
       "    if (!this.supports_binary) {\n",
       "        var warnings = document.getElementById(\"mpl-warnings\");\n",
       "        if (warnings) {\n",
       "            warnings.style.display = 'block';\n",
       "            warnings.textContent = (\n",
       "                \"This browser does not support binary websocket messages. \" +\n",
       "                    \"Performance may be slow.\");\n",
       "        }\n",
       "    }\n",
       "\n",
       "    this.imageObj = new Image();\n",
       "\n",
       "    this.context = undefined;\n",
       "    this.message = undefined;\n",
       "    this.canvas = undefined;\n",
       "    this.rubberband_canvas = undefined;\n",
       "    this.rubberband_context = undefined;\n",
       "    this.format_dropdown = undefined;\n",
       "\n",
       "    this.image_mode = 'full';\n",
       "\n",
       "    this.root = $('<div/>');\n",
       "    this._root_extra_style(this.root)\n",
       "    this.root.attr('style', 'display: inline-block');\n",
       "\n",
       "    $(parent_element).append(this.root);\n",
       "\n",
       "    this._init_header(this);\n",
       "    this._init_canvas(this);\n",
       "    this._init_toolbar(this);\n",
       "\n",
       "    var fig = this;\n",
       "\n",
       "    this.waiting = false;\n",
       "\n",
       "    this.ws.onopen =  function () {\n",
       "            fig.send_message(\"supports_binary\", {value: fig.supports_binary});\n",
       "            fig.send_message(\"send_image_mode\", {});\n",
       "            if (mpl.ratio != 1) {\n",
       "                fig.send_message(\"set_dpi_ratio\", {'dpi_ratio': mpl.ratio});\n",
       "            }\n",
       "            fig.send_message(\"refresh\", {});\n",
       "        }\n",
       "\n",
       "    this.imageObj.onload = function() {\n",
       "            if (fig.image_mode == 'full') {\n",
       "                // Full images could contain transparency (where diff images\n",
       "                // almost always do), so we need to clear the canvas so that\n",
       "                // there is no ghosting.\n",
       "                fig.context.clearRect(0, 0, fig.canvas.width, fig.canvas.height);\n",
       "            }\n",
       "            fig.context.drawImage(fig.imageObj, 0, 0);\n",
       "        };\n",
       "\n",
       "    this.imageObj.onunload = function() {\n",
       "        fig.ws.close();\n",
       "    }\n",
       "\n",
       "    this.ws.onmessage = this._make_on_message_function(this);\n",
       "\n",
       "    this.ondownload = ondownload;\n",
       "}\n",
       "\n",
       "mpl.figure.prototype._init_header = function() {\n",
       "    var titlebar = $(\n",
       "        '<div class=\"ui-dialog-titlebar ui-widget-header ui-corner-all ' +\n",
       "        'ui-helper-clearfix\"/>');\n",
       "    var titletext = $(\n",
       "        '<div class=\"ui-dialog-title\" style=\"width: 100%; ' +\n",
       "        'text-align: center; padding: 3px;\"/>');\n",
       "    titlebar.append(titletext)\n",
       "    this.root.append(titlebar);\n",
       "    this.header = titletext[0];\n",
       "}\n",
       "\n",
       "\n",
       "\n",
       "mpl.figure.prototype._canvas_extra_style = function(canvas_div) {\n",
       "\n",
       "}\n",
       "\n",
       "\n",
       "mpl.figure.prototype._root_extra_style = function(canvas_div) {\n",
       "\n",
       "}\n",
       "\n",
       "mpl.figure.prototype._init_canvas = function() {\n",
       "    var fig = this;\n",
       "\n",
       "    var canvas_div = $('<div/>');\n",
       "\n",
       "    canvas_div.attr('style', 'position: relative; clear: both; outline: 0');\n",
       "\n",
       "    function canvas_keyboard_event(event) {\n",
       "        return fig.key_event(event, event['data']);\n",
       "    }\n",
       "\n",
       "    canvas_div.keydown('key_press', canvas_keyboard_event);\n",
       "    canvas_div.keyup('key_release', canvas_keyboard_event);\n",
       "    this.canvas_div = canvas_div\n",
       "    this._canvas_extra_style(canvas_div)\n",
       "    this.root.append(canvas_div);\n",
       "\n",
       "    var canvas = $('<canvas/>');\n",
       "    canvas.addClass('mpl-canvas');\n",
       "    canvas.attr('style', \"left: 0; top: 0; z-index: 0; outline: 0\")\n",
       "\n",
       "    this.canvas = canvas[0];\n",
       "    this.context = canvas[0].getContext(\"2d\");\n",
       "\n",
       "    var backingStore = this.context.backingStorePixelRatio ||\n",
       "\tthis.context.webkitBackingStorePixelRatio ||\n",
       "\tthis.context.mozBackingStorePixelRatio ||\n",
       "\tthis.context.msBackingStorePixelRatio ||\n",
       "\tthis.context.oBackingStorePixelRatio ||\n",
       "\tthis.context.backingStorePixelRatio || 1;\n",
       "\n",
       "    mpl.ratio = (window.devicePixelRatio || 1) / backingStore;\n",
       "\n",
       "    var rubberband = $('<canvas/>');\n",
       "    rubberband.attr('style', \"position: absolute; left: 0; top: 0; z-index: 1;\")\n",
       "\n",
       "    var pass_mouse_events = true;\n",
       "\n",
       "    canvas_div.resizable({\n",
       "        start: function(event, ui) {\n",
       "            pass_mouse_events = false;\n",
       "        },\n",
       "        resize: function(event, ui) {\n",
       "            fig.request_resize(ui.size.width, ui.size.height);\n",
       "        },\n",
       "        stop: function(event, ui) {\n",
       "            pass_mouse_events = true;\n",
       "            fig.request_resize(ui.size.width, ui.size.height);\n",
       "        },\n",
       "    });\n",
       "\n",
       "    function mouse_event_fn(event) {\n",
       "        if (pass_mouse_events)\n",
       "            return fig.mouse_event(event, event['data']);\n",
       "    }\n",
       "\n",
       "    rubberband.mousedown('button_press', mouse_event_fn);\n",
       "    rubberband.mouseup('button_release', mouse_event_fn);\n",
       "    // Throttle sequential mouse events to 1 every 20ms.\n",
       "    rubberband.mousemove('motion_notify', mouse_event_fn);\n",
       "\n",
       "    rubberband.mouseenter('figure_enter', mouse_event_fn);\n",
       "    rubberband.mouseleave('figure_leave', mouse_event_fn);\n",
       "\n",
       "    canvas_div.on(\"wheel\", function (event) {\n",
       "        event = event.originalEvent;\n",
       "        event['data'] = 'scroll'\n",
       "        if (event.deltaY < 0) {\n",
       "            event.step = 1;\n",
       "        } else {\n",
       "            event.step = -1;\n",
       "        }\n",
       "        mouse_event_fn(event);\n",
       "    });\n",
       "\n",
       "    canvas_div.append(canvas);\n",
       "    canvas_div.append(rubberband);\n",
       "\n",
       "    this.rubberband = rubberband;\n",
       "    this.rubberband_canvas = rubberband[0];\n",
       "    this.rubberband_context = rubberband[0].getContext(\"2d\");\n",
       "    this.rubberband_context.strokeStyle = \"#000000\";\n",
       "\n",
       "    this._resize_canvas = function(width, height) {\n",
       "        // Keep the size of the canvas, canvas container, and rubber band\n",
       "        // canvas in synch.\n",
       "        canvas_div.css('width', width)\n",
       "        canvas_div.css('height', height)\n",
       "\n",
       "        canvas.attr('width', width * mpl.ratio);\n",
       "        canvas.attr('height', height * mpl.ratio);\n",
       "        canvas.attr('style', 'width: ' + width + 'px; height: ' + height + 'px;');\n",
       "\n",
       "        rubberband.attr('width', width);\n",
       "        rubberband.attr('height', height);\n",
       "    }\n",
       "\n",
       "    // Set the figure to an initial 600x600px, this will subsequently be updated\n",
       "    // upon first draw.\n",
       "    this._resize_canvas(600, 600);\n",
       "\n",
       "    // Disable right mouse context menu.\n",
       "    $(this.rubberband_canvas).bind(\"contextmenu\",function(e){\n",
       "        return false;\n",
       "    });\n",
       "\n",
       "    function set_focus () {\n",
       "        canvas.focus();\n",
       "        canvas_div.focus();\n",
       "    }\n",
       "\n",
       "    window.setTimeout(set_focus, 100);\n",
       "}\n",
       "\n",
       "mpl.figure.prototype._init_toolbar = function() {\n",
       "    var fig = this;\n",
       "\n",
       "    var nav_element = $('<div/>')\n",
       "    nav_element.attr('style', 'width: 100%');\n",
       "    this.root.append(nav_element);\n",
       "\n",
       "    // Define a callback function for later on.\n",
       "    function toolbar_event(event) {\n",
       "        return fig.toolbar_button_onclick(event['data']);\n",
       "    }\n",
       "    function toolbar_mouse_event(event) {\n",
       "        return fig.toolbar_button_onmouseover(event['data']);\n",
       "    }\n",
       "\n",
       "    for(var toolbar_ind in mpl.toolbar_items) {\n",
       "        var name = mpl.toolbar_items[toolbar_ind][0];\n",
       "        var tooltip = mpl.toolbar_items[toolbar_ind][1];\n",
       "        var image = mpl.toolbar_items[toolbar_ind][2];\n",
       "        var method_name = mpl.toolbar_items[toolbar_ind][3];\n",
       "\n",
       "        if (!name) {\n",
       "            // put a spacer in here.\n",
       "            continue;\n",
       "        }\n",
       "        var button = $('<button/>');\n",
       "        button.addClass('ui-button ui-widget ui-state-default ui-corner-all ' +\n",
       "                        'ui-button-icon-only');\n",
       "        button.attr('role', 'button');\n",
       "        button.attr('aria-disabled', 'false');\n",
       "        button.click(method_name, toolbar_event);\n",
       "        button.mouseover(tooltip, toolbar_mouse_event);\n",
       "\n",
       "        var icon_img = $('<span/>');\n",
       "        icon_img.addClass('ui-button-icon-primary ui-icon');\n",
       "        icon_img.addClass(image);\n",
       "        icon_img.addClass('ui-corner-all');\n",
       "\n",
       "        var tooltip_span = $('<span/>');\n",
       "        tooltip_span.addClass('ui-button-text');\n",
       "        tooltip_span.html(tooltip);\n",
       "\n",
       "        button.append(icon_img);\n",
       "        button.append(tooltip_span);\n",
       "\n",
       "        nav_element.append(button);\n",
       "    }\n",
       "\n",
       "    var fmt_picker_span = $('<span/>');\n",
       "\n",
       "    var fmt_picker = $('<select/>');\n",
       "    fmt_picker.addClass('mpl-toolbar-option ui-widget ui-widget-content');\n",
       "    fmt_picker_span.append(fmt_picker);\n",
       "    nav_element.append(fmt_picker_span);\n",
       "    this.format_dropdown = fmt_picker[0];\n",
       "\n",
       "    for (var ind in mpl.extensions) {\n",
       "        var fmt = mpl.extensions[ind];\n",
       "        var option = $(\n",
       "            '<option/>', {selected: fmt === mpl.default_extension}).html(fmt);\n",
       "        fmt_picker.append(option)\n",
       "    }\n",
       "\n",
       "    // Add hover states to the ui-buttons\n",
       "    $( \".ui-button\" ).hover(\n",
       "        function() { $(this).addClass(\"ui-state-hover\");},\n",
       "        function() { $(this).removeClass(\"ui-state-hover\");}\n",
       "    );\n",
       "\n",
       "    var status_bar = $('<span class=\"mpl-message\"/>');\n",
       "    nav_element.append(status_bar);\n",
       "    this.message = status_bar[0];\n",
       "}\n",
       "\n",
       "mpl.figure.prototype.request_resize = function(x_pixels, y_pixels) {\n",
       "    // Request matplotlib to resize the figure. Matplotlib will then trigger a resize in the client,\n",
       "    // which will in turn request a refresh of the image.\n",
       "    this.send_message('resize', {'width': x_pixels, 'height': y_pixels});\n",
       "}\n",
       "\n",
       "mpl.figure.prototype.send_message = function(type, properties) {\n",
       "    properties['type'] = type;\n",
       "    properties['figure_id'] = this.id;\n",
       "    this.ws.send(JSON.stringify(properties));\n",
       "}\n",
       "\n",
       "mpl.figure.prototype.send_draw_message = function() {\n",
       "    if (!this.waiting) {\n",
       "        this.waiting = true;\n",
       "        this.ws.send(JSON.stringify({type: \"draw\", figure_id: this.id}));\n",
       "    }\n",
       "}\n",
       "\n",
       "\n",
       "mpl.figure.prototype.handle_save = function(fig, msg) {\n",
       "    var format_dropdown = fig.format_dropdown;\n",
       "    var format = format_dropdown.options[format_dropdown.selectedIndex].value;\n",
       "    fig.ondownload(fig, format);\n",
       "}\n",
       "\n",
       "\n",
       "mpl.figure.prototype.handle_resize = function(fig, msg) {\n",
       "    var size = msg['size'];\n",
       "    if (size[0] != fig.canvas.width || size[1] != fig.canvas.height) {\n",
       "        fig._resize_canvas(size[0], size[1]);\n",
       "        fig.send_message(\"refresh\", {});\n",
       "    };\n",
       "}\n",
       "\n",
       "mpl.figure.prototype.handle_rubberband = function(fig, msg) {\n",
       "    var x0 = msg['x0'] / mpl.ratio;\n",
       "    var y0 = (fig.canvas.height - msg['y0']) / mpl.ratio;\n",
       "    var x1 = msg['x1'] / mpl.ratio;\n",
       "    var y1 = (fig.canvas.height - msg['y1']) / mpl.ratio;\n",
       "    x0 = Math.floor(x0) + 0.5;\n",
       "    y0 = Math.floor(y0) + 0.5;\n",
       "    x1 = Math.floor(x1) + 0.5;\n",
       "    y1 = Math.floor(y1) + 0.5;\n",
       "    var min_x = Math.min(x0, x1);\n",
       "    var min_y = Math.min(y0, y1);\n",
       "    var width = Math.abs(x1 - x0);\n",
       "    var height = Math.abs(y1 - y0);\n",
       "\n",
       "    fig.rubberband_context.clearRect(\n",
       "        0, 0, fig.canvas.width, fig.canvas.height);\n",
       "\n",
       "    fig.rubberband_context.strokeRect(min_x, min_y, width, height);\n",
       "}\n",
       "\n",
       "mpl.figure.prototype.handle_figure_label = function(fig, msg) {\n",
       "    // Updates the figure title.\n",
       "    fig.header.textContent = msg['label'];\n",
       "}\n",
       "\n",
       "mpl.figure.prototype.handle_cursor = function(fig, msg) {\n",
       "    var cursor = msg['cursor'];\n",
       "    switch(cursor)\n",
       "    {\n",
       "    case 0:\n",
       "        cursor = 'pointer';\n",
       "        break;\n",
       "    case 1:\n",
       "        cursor = 'default';\n",
       "        break;\n",
       "    case 2:\n",
       "        cursor = 'crosshair';\n",
       "        break;\n",
       "    case 3:\n",
       "        cursor = 'move';\n",
       "        break;\n",
       "    }\n",
       "    fig.rubberband_canvas.style.cursor = cursor;\n",
       "}\n",
       "\n",
       "mpl.figure.prototype.handle_message = function(fig, msg) {\n",
       "    fig.message.textContent = msg['message'];\n",
       "}\n",
       "\n",
       "mpl.figure.prototype.handle_draw = function(fig, msg) {\n",
       "    // Request the server to send over a new figure.\n",
       "    fig.send_draw_message();\n",
       "}\n",
       "\n",
       "mpl.figure.prototype.handle_image_mode = function(fig, msg) {\n",
       "    fig.image_mode = msg['mode'];\n",
       "}\n",
       "\n",
       "mpl.figure.prototype.updated_canvas_event = function() {\n",
       "    // Called whenever the canvas gets updated.\n",
       "    this.send_message(\"ack\", {});\n",
       "}\n",
       "\n",
       "// A function to construct a web socket function for onmessage handling.\n",
       "// Called in the figure constructor.\n",
       "mpl.figure.prototype._make_on_message_function = function(fig) {\n",
       "    return function socket_on_message(evt) {\n",
       "        if (evt.data instanceof Blob) {\n",
       "            /* FIXME: We get \"Resource interpreted as Image but\n",
       "             * transferred with MIME type text/plain:\" errors on\n",
       "             * Chrome.  But how to set the MIME type?  It doesn't seem\n",
       "             * to be part of the websocket stream */\n",
       "            evt.data.type = \"image/png\";\n",
       "\n",
       "            /* Free the memory for the previous frames */\n",
       "            if (fig.imageObj.src) {\n",
       "                (window.URL || window.webkitURL).revokeObjectURL(\n",
       "                    fig.imageObj.src);\n",
       "            }\n",
       "\n",
       "            fig.imageObj.src = (window.URL || window.webkitURL).createObjectURL(\n",
       "                evt.data);\n",
       "            fig.updated_canvas_event();\n",
       "            fig.waiting = false;\n",
       "            return;\n",
       "        }\n",
       "        else if (typeof evt.data === 'string' && evt.data.slice(0, 21) == \"data:image/png;base64\") {\n",
       "            fig.imageObj.src = evt.data;\n",
       "            fig.updated_canvas_event();\n",
       "            fig.waiting = false;\n",
       "            return;\n",
       "        }\n",
       "\n",
       "        var msg = JSON.parse(evt.data);\n",
       "        var msg_type = msg['type'];\n",
       "\n",
       "        // Call the  \"handle_{type}\" callback, which takes\n",
       "        // the figure and JSON message as its only arguments.\n",
       "        try {\n",
       "            var callback = fig[\"handle_\" + msg_type];\n",
       "        } catch (e) {\n",
       "            console.log(\"No handler for the '\" + msg_type + \"' message type: \", msg);\n",
       "            return;\n",
       "        }\n",
       "\n",
       "        if (callback) {\n",
       "            try {\n",
       "                // console.log(\"Handling '\" + msg_type + \"' message: \", msg);\n",
       "                callback(fig, msg);\n",
       "            } catch (e) {\n",
       "                console.log(\"Exception inside the 'handler_\" + msg_type + \"' callback:\", e, e.stack, msg);\n",
       "            }\n",
       "        }\n",
       "    };\n",
       "}\n",
       "\n",
       "// from http://stackoverflow.com/questions/1114465/getting-mouse-location-in-canvas\n",
       "mpl.findpos = function(e) {\n",
       "    //this section is from http://www.quirksmode.org/js/events_properties.html\n",
       "    var targ;\n",
       "    if (!e)\n",
       "        e = window.event;\n",
       "    if (e.target)\n",
       "        targ = e.target;\n",
       "    else if (e.srcElement)\n",
       "        targ = e.srcElement;\n",
       "    if (targ.nodeType == 3) // defeat Safari bug\n",
       "        targ = targ.parentNode;\n",
       "\n",
       "    // jQuery normalizes the pageX and pageY\n",
       "    // pageX,Y are the mouse positions relative to the document\n",
       "    // offset() returns the position of the element relative to the document\n",
       "    var x = e.pageX - $(targ).offset().left;\n",
       "    var y = e.pageY - $(targ).offset().top;\n",
       "\n",
       "    return {\"x\": x, \"y\": y};\n",
       "};\n",
       "\n",
       "/*\n",
       " * return a copy of an object with only non-object keys\n",
       " * we need this to avoid circular references\n",
       " * http://stackoverflow.com/a/24161582/3208463\n",
       " */\n",
       "function simpleKeys (original) {\n",
       "  return Object.keys(original).reduce(function (obj, key) {\n",
       "    if (typeof original[key] !== 'object')\n",
       "        obj[key] = original[key]\n",
       "    return obj;\n",
       "  }, {});\n",
       "}\n",
       "\n",
       "mpl.figure.prototype.mouse_event = function(event, name) {\n",
       "    var canvas_pos = mpl.findpos(event)\n",
       "\n",
       "    if (name === 'button_press')\n",
       "    {\n",
       "        this.canvas.focus();\n",
       "        this.canvas_div.focus();\n",
       "    }\n",
       "\n",
       "    var x = canvas_pos.x * mpl.ratio;\n",
       "    var y = canvas_pos.y * mpl.ratio;\n",
       "\n",
       "    this.send_message(name, {x: x, y: y, button: event.button,\n",
       "                             step: event.step,\n",
       "                             guiEvent: simpleKeys(event)});\n",
       "\n",
       "    /* This prevents the web browser from automatically changing to\n",
       "     * the text insertion cursor when the button is pressed.  We want\n",
       "     * to control all of the cursor setting manually through the\n",
       "     * 'cursor' event from matplotlib */\n",
       "    event.preventDefault();\n",
       "    return false;\n",
       "}\n",
       "\n",
       "mpl.figure.prototype._key_event_extra = function(event, name) {\n",
       "    // Handle any extra behaviour associated with a key event\n",
       "}\n",
       "\n",
       "mpl.figure.prototype.key_event = function(event, name) {\n",
       "\n",
       "    // Prevent repeat events\n",
       "    if (name == 'key_press')\n",
       "    {\n",
       "        if (event.which === this._key)\n",
       "            return;\n",
       "        else\n",
       "            this._key = event.which;\n",
       "    }\n",
       "    if (name == 'key_release')\n",
       "        this._key = null;\n",
       "\n",
       "    var value = '';\n",
       "    if (event.ctrlKey && event.which != 17)\n",
       "        value += \"ctrl+\";\n",
       "    if (event.altKey && event.which != 18)\n",
       "        value += \"alt+\";\n",
       "    if (event.shiftKey && event.which != 16)\n",
       "        value += \"shift+\";\n",
       "\n",
       "    value += 'k';\n",
       "    value += event.which.toString();\n",
       "\n",
       "    this._key_event_extra(event, name);\n",
       "\n",
       "    this.send_message(name, {key: value,\n",
       "                             guiEvent: simpleKeys(event)});\n",
       "    return false;\n",
       "}\n",
       "\n",
       "mpl.figure.prototype.toolbar_button_onclick = function(name) {\n",
       "    if (name == 'download') {\n",
       "        this.handle_save(this, null);\n",
       "    } else {\n",
       "        this.send_message(\"toolbar_button\", {name: name});\n",
       "    }\n",
       "};\n",
       "\n",
       "mpl.figure.prototype.toolbar_button_onmouseover = function(tooltip) {\n",
       "    this.message.textContent = tooltip;\n",
       "};\n",
       "mpl.toolbar_items = [[\"Home\", \"Reset original view\", \"fa fa-home icon-home\", \"home\"], [\"Back\", \"Back to previous view\", \"fa fa-arrow-left icon-arrow-left\", \"back\"], [\"Forward\", \"Forward to next view\", \"fa fa-arrow-right icon-arrow-right\", \"forward\"], [\"\", \"\", \"\", \"\"], [\"Pan\", \"Pan axes with left mouse, zoom with right\", \"fa fa-arrows icon-move\", \"pan\"], [\"Zoom\", \"Zoom to rectangle\", \"fa fa-square-o icon-check-empty\", \"zoom\"], [\"\", \"\", \"\", \"\"], [\"Download\", \"Download plot\", \"fa fa-floppy-o icon-save\", \"download\"]];\n",
       "\n",
       "mpl.extensions = [\"eps\", \"jpeg\", \"pdf\", \"png\", \"ps\", \"raw\", \"svg\", \"tif\"];\n",
       "\n",
       "mpl.default_extension = \"png\";var comm_websocket_adapter = function(comm) {\n",
       "    // Create a \"websocket\"-like object which calls the given IPython comm\n",
       "    // object with the appropriate methods. Currently this is a non binary\n",
       "    // socket, so there is still some room for performance tuning.\n",
       "    var ws = {};\n",
       "\n",
       "    ws.close = function() {\n",
       "        comm.close()\n",
       "    };\n",
       "    ws.send = function(m) {\n",
       "        //console.log('sending', m);\n",
       "        comm.send(m);\n",
       "    };\n",
       "    // Register the callback with on_msg.\n",
       "    comm.on_msg(function(msg) {\n",
       "        //console.log('receiving', msg['content']['data'], msg);\n",
       "        // Pass the mpl event to the overridden (by mpl) onmessage function.\n",
       "        ws.onmessage(msg['content']['data'])\n",
       "    });\n",
       "    return ws;\n",
       "}\n",
       "\n",
       "mpl.mpl_figure_comm = function(comm, msg) {\n",
       "    // This is the function which gets called when the mpl process\n",
       "    // starts-up an IPython Comm through the \"matplotlib\" channel.\n",
       "\n",
       "    var id = msg.content.data.id;\n",
       "    // Get hold of the div created by the display call when the Comm\n",
       "    // socket was opened in Python.\n",
       "    var element = $(\"#\" + id);\n",
       "    var ws_proxy = comm_websocket_adapter(comm)\n",
       "\n",
       "    function ondownload(figure, format) {\n",
       "        window.open(figure.imageObj.src);\n",
       "    }\n",
       "\n",
       "    var fig = new mpl.figure(id, ws_proxy,\n",
       "                           ondownload,\n",
       "                           element.get(0));\n",
       "\n",
       "    // Call onopen now - mpl needs it, as it is assuming we've passed it a real\n",
       "    // web socket which is closed, not our websocket->open comm proxy.\n",
       "    ws_proxy.onopen();\n",
       "\n",
       "    fig.parent_element = element.get(0);\n",
       "    fig.cell_info = mpl.find_output_cell(\"<div id='\" + id + \"'></div>\");\n",
       "    if (!fig.cell_info) {\n",
       "        console.error(\"Failed to find cell for figure\", id, fig);\n",
       "        return;\n",
       "    }\n",
       "\n",
       "    var output_index = fig.cell_info[2]\n",
       "    var cell = fig.cell_info[0];\n",
       "\n",
       "};\n",
       "\n",
       "mpl.figure.prototype.handle_close = function(fig, msg) {\n",
       "    var width = fig.canvas.width/mpl.ratio\n",
       "    fig.root.unbind('remove')\n",
       "\n",
       "    // Update the output cell to use the data from the current canvas.\n",
       "    fig.push_to_output();\n",
       "    var dataURL = fig.canvas.toDataURL();\n",
       "    // Re-enable the keyboard manager in IPython - without this line, in FF,\n",
       "    // the notebook keyboard shortcuts fail.\n",
       "    IPython.keyboard_manager.enable()\n",
       "    $(fig.parent_element).html('<img src=\"' + dataURL + '\" width=\"' + width + '\">');\n",
       "    fig.close_ws(fig, msg);\n",
       "}\n",
       "\n",
       "mpl.figure.prototype.close_ws = function(fig, msg){\n",
       "    fig.send_message('closing', msg);\n",
       "    // fig.ws.close()\n",
       "}\n",
       "\n",
       "mpl.figure.prototype.push_to_output = function(remove_interactive) {\n",
       "    // Turn the data on the canvas into data in the output cell.\n",
       "    var width = this.canvas.width/mpl.ratio\n",
       "    var dataURL = this.canvas.toDataURL();\n",
       "    this.cell_info[1]['text/html'] = '<img src=\"' + dataURL + '\" width=\"' + width + '\">';\n",
       "}\n",
       "\n",
       "mpl.figure.prototype.updated_canvas_event = function() {\n",
       "    // Tell IPython that the notebook contents must change.\n",
       "    IPython.notebook.set_dirty(true);\n",
       "    this.send_message(\"ack\", {});\n",
       "    var fig = this;\n",
       "    // Wait a second, then push the new image to the DOM so\n",
       "    // that it is saved nicely (might be nice to debounce this).\n",
       "    setTimeout(function () { fig.push_to_output() }, 1000);\n",
       "}\n",
       "\n",
       "mpl.figure.prototype._init_toolbar = function() {\n",
       "    var fig = this;\n",
       "\n",
       "    var nav_element = $('<div/>')\n",
       "    nav_element.attr('style', 'width: 100%');\n",
       "    this.root.append(nav_element);\n",
       "\n",
       "    // Define a callback function for later on.\n",
       "    function toolbar_event(event) {\n",
       "        return fig.toolbar_button_onclick(event['data']);\n",
       "    }\n",
       "    function toolbar_mouse_event(event) {\n",
       "        return fig.toolbar_button_onmouseover(event['data']);\n",
       "    }\n",
       "\n",
       "    for(var toolbar_ind in mpl.toolbar_items){\n",
       "        var name = mpl.toolbar_items[toolbar_ind][0];\n",
       "        var tooltip = mpl.toolbar_items[toolbar_ind][1];\n",
       "        var image = mpl.toolbar_items[toolbar_ind][2];\n",
       "        var method_name = mpl.toolbar_items[toolbar_ind][3];\n",
       "\n",
       "        if (!name) { continue; };\n",
       "\n",
       "        var button = $('<button class=\"btn btn-default\" href=\"#\" title=\"' + name + '\"><i class=\"fa ' + image + ' fa-lg\"></i></button>');\n",
       "        button.click(method_name, toolbar_event);\n",
       "        button.mouseover(tooltip, toolbar_mouse_event);\n",
       "        nav_element.append(button);\n",
       "    }\n",
       "\n",
       "    // Add the status bar.\n",
       "    var status_bar = $('<span class=\"mpl-message\" style=\"text-align:right; float: right;\"/>');\n",
       "    nav_element.append(status_bar);\n",
       "    this.message = status_bar[0];\n",
       "\n",
       "    // Add the close button to the window.\n",
       "    var buttongrp = $('<div class=\"btn-group inline pull-right\"></div>');\n",
       "    var button = $('<button class=\"btn btn-mini btn-primary\" href=\"#\" title=\"Stop Interaction\"><i class=\"fa fa-power-off icon-remove icon-large\"></i></button>');\n",
       "    button.click(function (evt) { fig.handle_close(fig, {}); } );\n",
       "    button.mouseover('Stop Interaction', toolbar_mouse_event);\n",
       "    buttongrp.append(button);\n",
       "    var titlebar = this.root.find($('.ui-dialog-titlebar'));\n",
       "    titlebar.prepend(buttongrp);\n",
       "}\n",
       "\n",
       "mpl.figure.prototype._root_extra_style = function(el){\n",
       "    var fig = this\n",
       "    el.on(\"remove\", function(){\n",
       "\tfig.close_ws(fig, {});\n",
       "    });\n",
       "}\n",
       "\n",
       "mpl.figure.prototype._canvas_extra_style = function(el){\n",
       "    // this is important to make the div 'focusable\n",
       "    el.attr('tabindex', 0)\n",
       "    // reach out to IPython and tell the keyboard manager to turn it's self\n",
       "    // off when our div gets focus\n",
       "\n",
       "    // location in version 3\n",
       "    if (IPython.notebook.keyboard_manager) {\n",
       "        IPython.notebook.keyboard_manager.register_events(el);\n",
       "    }\n",
       "    else {\n",
       "        // location in version 2\n",
       "        IPython.keyboard_manager.register_events(el);\n",
       "    }\n",
       "\n",
       "}\n",
       "\n",
       "mpl.figure.prototype._key_event_extra = function(event, name) {\n",
       "    var manager = IPython.notebook.keyboard_manager;\n",
       "    if (!manager)\n",
       "        manager = IPython.keyboard_manager;\n",
       "\n",
       "    // Check for shift+enter\n",
       "    if (event.shiftKey && event.which == 13) {\n",
       "        this.canvas_div.blur();\n",
       "        event.shiftKey = false;\n",
       "        // Send a \"J\" for go to next cell\n",
       "        event.which = 74;\n",
       "        event.keyCode = 74;\n",
       "        manager.command_mode();\n",
       "        manager.handle_keydown(event);\n",
       "    }\n",
       "}\n",
       "\n",
       "mpl.figure.prototype.handle_save = function(fig, msg) {\n",
       "    fig.ondownload(fig, null);\n",
       "}\n",
       "\n",
       "\n",
       "mpl.find_output_cell = function(html_output) {\n",
       "    // Return the cell and output element which can be found *uniquely* in the notebook.\n",
       "    // Note - this is a bit hacky, but it is done because the \"notebook_saving.Notebook\"\n",
       "    // IPython event is triggered only after the cells have been serialised, which for\n",
       "    // our purposes (turning an active figure into a static one), is too late.\n",
       "    var cells = IPython.notebook.get_cells();\n",
       "    var ncells = cells.length;\n",
       "    for (var i=0; i<ncells; i++) {\n",
       "        var cell = cells[i];\n",
       "        if (cell.cell_type === 'code'){\n",
       "            for (var j=0; j<cell.output_area.outputs.length; j++) {\n",
       "                var data = cell.output_area.outputs[j];\n",
       "                if (data.data) {\n",
       "                    // IPython >= 3 moved mimebundle to data attribute of output\n",
       "                    data = data.data;\n",
       "                }\n",
       "                if (data['text/html'] == html_output) {\n",
       "                    return [cell, data, j];\n",
       "                }\n",
       "            }\n",
       "        }\n",
       "    }\n",
       "}\n",
       "\n",
       "// Register the function which deals with the matplotlib target/channel.\n",
       "// The kernel may be null if the page has been refreshed.\n",
       "if (IPython.notebook.kernel != null) {\n",
       "    IPython.notebook.kernel.comm_manager.register_target('matplotlib', mpl.mpl_figure_comm);\n",
       "}\n"
      ],
      "text/plain": [
       "<IPython.core.display.Javascript object>"
      ]
     },
     "metadata": {},
     "output_type": "display_data"
    },
    {
     "data": {
      "text/html": [
       "<img src=\"data:image/png;base64,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\" width=\"640\">"
      ],
      "text/plain": [
       "<IPython.core.display.HTML object>"
      ]
     },
     "metadata": {},
     "output_type": "display_data"
    },
    {
     "name": "stdout",
     "output_type": "stream",
     "text": [
      "2.9802322387695312e-05\n"
     ]
    }
   ],
   "source": [
    "# ax.set_yticks(np.arange(min(y), max(y)+1, 1.0))\n",
    "plt.scatter(lambdas, rmses)\n",
    "print(best_lambda)"
   ]
  },
  {
   "cell_type": "markdown",
   "metadata": {},
   "source": [
    "# Unnormalized\n",
    "\n",
    "## Degree = 2\n",
    "### Max iterations = 10,000\n",
    "### eta = 0.0000000000001\n",
    "\n",
    "0.4744234599520871      1 <br>\n",
    "0.6474382918705535      x <br>\n",
    "0.0005804929584987999   x^2 <br>\n",
    "0.14105769027351664     y <br>\n",
    "-0.09403124677459616    xy <br>\n",
    "0.3544625440157649      y^2 <br>\n",
    "\n",
    "Error:  75436974.66365339\n",
    "\n",
    "---------------------------------------------------\n",
    "\n",
    "## Degree = 1\n",
    "### Max iterations = 10,000\n",
    "### eta = 0.000000001\n",
    "\n",
    "0.5185508389987425       1 <br>\n",
    "0.15099146093306134      x <br>\n",
    "1.3394518499352581       y <br>\n",
    "\n",
    "Error:  75282294.06572284\n",
    "\n",
    "---\n",
    "---"
   ]
  },
  {
   "cell_type": "markdown",
   "metadata": {},
   "source": [
    "# Normalized\n",
    "\n",
    "## Degree = 2\n",
    "### Max iterations = 1,000\n",
    "### eta = 0.000002\n",
    "\n",
    "0.15263109107088374 1 <br>\n",
    "-0.046585920675156704 x <br>\n",
    "0.21581304287314088 x^2 <br>\n",
    "0.3174109858230444 y <br>\n",
    "-0.39821638060691267 xy <br>\n",
    "-0.1120204638382443 y^2 <br>\n",
    "\n",
    "Error: 3492.6023185812373\n",
    "\n",
    "---------------------------------------------------\n",
    "\n",
    "## Degree = 1\n",
    "### Max iterations = 1,000\n",
    "### eta = 0.000002\n",
    "\n",
    "0.20875515071358333      1 <br>\n",
    "-0.10010713951478299     x <br>\n",
    "0.09525453491739086      y <br>\n",
    "\n",
    "Error: 3585.734618153786"
   ]
  }
 ],
 "metadata": {
  "kernelspec": {
   "display_name": "Python 3",
   "language": "python",
   "name": "python3"
  },
  "language_info": {
   "codemirror_mode": {
    "name": "ipython",
    "version": 3
   },
   "file_extension": ".py",
   "mimetype": "text/x-python",
   "name": "python",
   "nbconvert_exporter": "python",
   "pygments_lexer": "ipython3",
   "version": "3.7.3"
  }
 },
 "nbformat": 4,
 "nbformat_minor": 2
}
