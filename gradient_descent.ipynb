{
 "cells": [
  {
   "cell_type": "code",
   "execution_count": 46,
   "metadata": {},
   "outputs": [],
   "source": [
    "%matplotlib notebook\n",
    "import numpy as np\n",
    "import pandas as pd\n",
    "import random\n",
    "from tqdm import tqdm_notebook\n",
    "from sklearn.model_selection import train_test_split\n",
    "import matplotlib.pyplot as plt"
   ]
  },
  {
   "cell_type": "code",
   "execution_count": 47,
   "metadata": {},
   "outputs": [],
   "source": [
    "dataDf = pd.read_csv('data.csv')\n",
    "x = np.array(dataDf['LATITUDE'].tolist())\n",
    "y = np.array(dataDf['LONGITUDE'].tolist())\n",
    "T = np.array(dataDf['ALTITUDE'].tolist())"
   ]
  },
  {
   "cell_type": "code",
   "execution_count": 60,
   "metadata": {},
   "outputs": [],
   "source": [
    "def normalize(vec):\n",
    "    \n",
    "    mean = np.mean(vec)\n",
    "    denominator = max(vec) - min(vec)\n",
    "    vec = (vec - mean) / denominator\n",
    "    \n",
    "    return vec"
   ]
  },
  {
   "cell_type": "code",
   "execution_count": 61,
   "metadata": {},
   "outputs": [],
   "source": [
    "def split(x, y, T):\n",
    "    \n",
    "    X = [(x[i], y[i]) for i in range(len(x))]\n",
    "    X_train, X_test, T_train, T_test = train_test_split(X, T, test_size = 0.2, random_state = 0)\n",
    "    X_test, X_val, T_test, T_val = train_test_split(X_test, T_test, test_size = 0.5, random_state = 42)\n",
    "    \n",
    "    x_test = np.array([X_test[i][0] for i in range(len(X_test))])\n",
    "    y_test = np.array([X_test[i][1] for i in range(len(X_test))])\n",
    "    \n",
    "    x_val = np.array([X_val[i][0] for i in range(len(X_val))])\n",
    "    y_val = np.array([X_val[i][1] for i in range(len(X_val))])\n",
    "    \n",
    "    x_train = np.array([X_train[i][0] for i in range(len(X_train))])\n",
    "    y_train = np.array([X_train[i][1] for i in range(len(X_train))])\n",
    "                      \n",
    "    return x_train, y_train, T_train, x_val, y_val, T_val, x_test, y_test, T_test"
   ]
  },
  {
   "cell_type": "code",
   "execution_count": 62,
   "metadata": {},
   "outputs": [],
   "source": [
    "def generate_features(x, y, N, deg):\n",
    "    \n",
    "    # the feature matrix\n",
    "    # for each pow of y (dy), get all pow of x (dx), such that dx + dy = deg\n",
    "    \n",
    "    # [[1, x1, x1^2, y1, x1y1, y1^2]\n",
    "    #  [1, x2, x2^2, y2, x2y2, y2^2]\n",
    "    #   .  .\n",
    "    #   .  .\n",
    "    #  [1, xN, xN^2, yN, xNyN, yN^2]]\n",
    "    \n",
    "    featureMatrix = []\n",
    "    \n",
    "    # number of features\n",
    "    d = 0\n",
    "    \n",
    "    for n in range(N):\n",
    "        row = []\n",
    "        for i in range(deg + 1):\n",
    "            for j in range(deg - i + 1):\n",
    "                term = (x[n]**j) * (y[n]**i)\n",
    "                row.append(term)\n",
    "                if n == 0:\n",
    "                    d += 1\n",
    "        featureMatrix.append(row)\n",
    "    \n",
    "    # converting to a numpy array\n",
    "    featureMatrix = np.array(featureMatrix)\n",
    "    \n",
    "    return featureMatrix, d"
   ]
  },
  {
   "cell_type": "code",
   "execution_count": 63,
   "metadata": {},
   "outputs": [],
   "source": [
    "def update_weights(W, features, error, eta, lamb):\n",
    "    \n",
    "    delta = features.dot(error)\n",
    "    delta += lamb*W\n",
    "    W = W - eta*delta\n",
    "    \n",
    "    return W"
   ]
  },
  {
   "cell_type": "code",
   "execution_count": 64,
   "metadata": {},
   "outputs": [],
   "source": [
    "def show(W, error, d):\n",
    "    \n",
    "    for i in range(d):\n",
    "        print(W[i])\n",
    "    print('Error: ' + str(error) + '\\n')"
   ]
  },
  {
   "cell_type": "code",
   "execution_count": 66,
   "metadata": {},
   "outputs": [],
   "source": [
    "def predict(W, X):\n",
    "    \n",
    "    return X.dot(W)"
   ]
  },
  {
   "cell_type": "code",
   "execution_count": 80,
   "metadata": {},
   "outputs": [],
   "source": [
    "def generate_model(x, y, T, deg, maxIter, eta, lamb):\n",
    "       \n",
    "    N = len(x)\n",
    "    featureMatrix, d = generate_features(x, y, N, deg)\n",
    "    \n",
    "    # initial weights vector\n",
    "    # random initialization\n",
    "    random.seed(12)\n",
    "    W = np.array([random.random() for i in range(d)])\n",
    "    # zero initialization\n",
    "    # W = np.array([0 for i in range(d)])\n",
    "    \n",
    "    prevError = 0\n",
    "    currentError = 0\n",
    "    errors = []\n",
    "    \n",
    "    for i in tqdm_notebook(range(maxIter)):\n",
    "        \n",
    "        H = predict(W, featureMatrix)\n",
    "        E = (0.5*(H - T).dot(np.transpose(H - T))) + (0.5*lamb*sum(W*W))\n",
    "        prevError = currentError\n",
    "        currentError = E\n",
    "        errors.append(currentError)\n",
    "        #=======\n",
    "        # Perform termination check here using prevError and currentError\n",
    "        #=======\n",
    "        # print(0.5*lamb*sum(W*W))\n",
    "        # show(W, currentError, d)\n",
    "        W = update_weights(W, np.transpose(featureMatrix), H - T, eta, lamb)\n",
    "        \n",
    "    return W, errors"
   ]
  },
  {
   "cell_type": "code",
   "execution_count": 67,
   "metadata": {},
   "outputs": [],
   "source": [
    "def calc_R2(T, H):\n",
    "    \n",
    "    tss = sum((T - np.mean(T))*(T - np.mean(T)))\n",
    "    rss = sum((T - H)*(T - H))\n",
    "    \n",
    "    return 1 - (rss/tss)"
   ]
  },
  {
   "cell_type": "code",
   "execution_count": 68,
   "metadata": {},
   "outputs": [],
   "source": [
    "def calc_rmse(T, H):\n",
    "    \n",
    "    se = sum((T - H)*(T - H))\n",
    "    mse = se/len(T)\n",
    "    rmse = mse ** 0.5\n",
    "    \n",
    "    return rmse"
   ]
  },
  {
   "cell_type": "code",
   "execution_count": 69,
   "metadata": {},
   "outputs": [],
   "source": [
    "normalizedx = normalize(x)\n",
    "normalizedy = normalize(y)\n",
    "normalizedT = normalize(T)"
   ]
  },
  {
   "cell_type": "code",
   "execution_count": 82,
   "metadata": {},
   "outputs": [
    {
     "name": "stdout",
     "output_type": "stream",
     "text": [
      "For degree  1\n"
     ]
    },
    {
     "data": {
      "application/vnd.jupyter.widget-view+json": {
       "model_id": "940016cf774b48f5a619e5d3e5ad49c6",
       "version_major": 2,
       "version_minor": 0
      },
      "text/plain": [
       "HBox(children=(IntProgress(value=0, max=1000), HTML(value='')))"
      ]
     },
     "metadata": {},
     "output_type": "display_data"
    },
    {
     "name": "stdout",
     "output_type": "stream",
     "text": [
      "\n",
      "Final loss:  2858.0973146260258\n",
      "R2 error:  0.02604773334836763\n",
      "RMS error:  0.12866164484053036\n",
      "[-0.00022325 -0.10005647  0.09361553]\n",
      "\n",
      "\n",
      "\n"
     ]
    }
   ],
   "source": [
    "# x_train, y_train, T_train, x_val, y_val, T_val, x_test, y_test, T_test = split(x, y, T)\n",
    "x_train, y_train, T_train, x_val, y_val, T_val, x_test, y_test, T_test = split(normalizedx, normalizedy, normalizedT)\n",
    "# x_train, y_train, T_train = normalizedx, normalizedy, normalizedT\n",
    "# x_train, y_train, T_train = x, y, T\n",
    "\n",
    "# W, errors = generate_model(x_train, y_train, T_train, 1, 10000, 0.000002, 100000)\n",
    "# plt.plot([i for i in range(len(errors))], errors)\n",
    "\n",
    "# print(x_train[0:10], y_train[0:10])\n",
    "\n",
    "for i in range(1,2):\n",
    "    print('For degree ', i)\n",
    "    W, errors = generate_model(x_train, y_train, T_train, i, 1000, 0.000003, 1)\n",
    "    print('Final loss: ', errors[len(errors) - 1])\n",
    "    X, num = generate_features(x_val, y_val, len(x_val), i)\n",
    "    H = predict(W, X)\n",
    "    print('R2 error: ', calc_R2(T_val, H))    \n",
    "    print('RMS error: ', calc_rmse(T_val, H))\n",
    "    print(W)\n",
    "    print('\\n\\n')"
   ]
  },
  {
   "cell_type": "markdown",
   "metadata": {},
   "source": [
    "# Unnormalized\n",
    "\n",
    "## Degree = 2\n",
    "### Max iterations = 10,000\n",
    "### eta = 0.0000000000001\n",
    "\n",
    "0.4744234599520871      1 <br>\n",
    "0.6474382918705535      x <br>\n",
    "0.0005804929584987999   x^2 <br>\n",
    "0.14105769027351664     y <br>\n",
    "-0.09403124677459616    xy <br>\n",
    "0.3544625440157649      y^2 <br>\n",
    "\n",
    "Error:  75436974.66365339\n",
    "\n",
    "---------------------------------------------------\n",
    "\n",
    "## Degree = 1\n",
    "### Max iterations = 10,000\n",
    "### eta = 0.000000001\n",
    "\n",
    "0.5185508389987425       1 <br>\n",
    "0.15099146093306134      x <br>\n",
    "1.3394518499352581       y <br>\n",
    "\n",
    "Error:  75282294.06572284\n",
    "\n",
    "---\n",
    "---"
   ]
  },
  {
   "cell_type": "markdown",
   "metadata": {},
   "source": [
    "# Normalized\n",
    "\n",
    "## Degree = 2\n",
    "### Max iterations = 1,000\n",
    "### eta = 0.000002\n",
    "\n",
    "0.15263109107088374 1 <br>\n",
    "-0.046585920675156704 x <br>\n",
    "0.21581304287314088 x^2 <br>\n",
    "0.3174109858230444 y <br>\n",
    "-0.39821638060691267 xy <br>\n",
    "-0.1120204638382443 y^2 <br>\n",
    "\n",
    "Error: 3492.6023185812373\n",
    "\n",
    "---------------------------------------------------\n",
    "\n",
    "## Degree = 1\n",
    "### Max iterations = 1,000\n",
    "### eta = 0.000002\n",
    "\n",
    "0.20875515071358333      1 <br>\n",
    "-0.10010713951478299     x <br>\n",
    "0.09525453491739086      y <br>\n",
    "\n",
    "Error: 3585.734618153786"
   ]
  }
 ],
 "metadata": {
  "kernelspec": {
   "display_name": "Python 3",
   "language": "python",
   "name": "python3"
  },
  "language_info": {
   "codemirror_mode": {
    "name": "ipython",
    "version": 3
   },
   "file_extension": ".py",
   "mimetype": "text/x-python",
   "name": "python",
   "nbconvert_exporter": "python",
   "pygments_lexer": "ipython3",
   "version": "3.7.3"
  }
 },
 "nbformat": 4,
 "nbformat_minor": 2
}
